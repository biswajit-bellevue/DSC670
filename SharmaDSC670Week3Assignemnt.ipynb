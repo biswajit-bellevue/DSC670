{
 "cells": [
  {
   "cell_type": "markdown",
   "id": "f7b95164-6963-4658-ba23-867bfd9bf8bd",
   "metadata": {},
   "source": [
    "## Assignmen Week 3\n",
    "\n",
    "### Using OpenAI API to generate Json from Invoice text"
   ]
  },
  {
   "cell_type": "markdown",
   "id": "5ee5359c-a45e-4bee-8a66-b5d3b933ec2b",
   "metadata": {},
   "source": [
    "Providing specific, clear instructions in the prompt to LLMs generate better relevant answers. The process of crafting prompts to get the right output from a LLM is known as `prompt engineering`. By `prompt engineering`, we provide appropriate precise instructions, examples, and necessary context, formats, phrases, words to LLMs which helps in improving the quality and accuracy of the output. In the activities below prompt engineering approach is leveraged in simplest form to generate better quality json data from an invoice using OpenAI LLM (chatgp-4o-mini). "
   ]
  },
  {
   "cell_type": "code",
   "execution_count": 1,
   "id": "78ed5716-7dbf-4fe8-ac80-6e308e9810e4",
   "metadata": {},
   "outputs": [],
   "source": [
    "from openai import OpenAI\n",
    "import json\n",
    "import os"
   ]
  },
  {
   "cell_type": "code",
   "execution_count": 2,
   "id": "c1ecbbe1-bf5d-4ad8-8631-72a397bb99df",
   "metadata": {},
   "outputs": [],
   "source": [
    "# get api key from file\n",
    "with open(\"../../apikeys/openai-keys.json\", \"r\") as key_file:\n",
    "    api_key = json.load(key_file)[\"default_api_key\"]\n",
    "os.environ[\"OPENAI_API_KEY\"] = api_key"
   ]
  },
  {
   "cell_type": "code",
   "execution_count": 3,
   "id": "61401c1c-4e99-4bd8-a589-53c182332746",
   "metadata": {},
   "outputs": [],
   "source": [
    "# get client for API call\n",
    "client = OpenAI()"
   ]
  },
  {
   "cell_type": "code",
   "execution_count": 4,
   "id": "fd73a748-96f1-473c-af56-b5ecd2dbcb46",
   "metadata": {},
   "outputs": [],
   "source": [
    "invoice_text = \"\"\"321 Avenue A Date: 6/28/2024\n",
    "Portland, OR 12345 Invoice # 1111\n",
    "Phone: (206) 555-1163 For PO # 123456\n",
    "Fax: (206) 555-1164\n",
    "someone@websitegoeshere.com\n",
    "Quantity Description Unit price Amount Discount applied\n",
    "1 Item Number 1 $ 2.00 2.00 $\n",
    "1 Item Number 2 $ 2.00 2.00 $\n",
    "1 Item Number 3 $ 2.00 2.00 $\n",
    "$ -\n",
    "$ -\n",
    "$ -\n",
    "$ -\n",
    "$ -\n",
    "$ -\n",
    "$ -\n",
    "$ -\n",
    "Subtotal 6.00 $\n",
    "Credit $ 1,000.00\n",
    "Tax 9.80%\n",
    "Additional discount 12%\n",
    "Balance due (994.20) $\n",
    "Company Name\n",
    "INVOICE\n",
    "If you have any questions concerning this invoice, contact\n",
    "<Name> at <phone or email>.\n",
    "Make all checks payable to <Company name>.\n",
    "Thank you for your business!\n",
    "Bill To:\n",
    "Natasha Jones\n",
    "Central Beauty\n",
    "123 Main St.\n",
    "% discount 10%\n",
    "Manhattan, NY 98765\n",
    "(321) 555-1234\n",
    "Items over this amount qualify for an additional discount $100\"\"\""
   ]
  },
  {
   "cell_type": "markdown",
   "id": "38133766-5392-43c6-b739-79b71b6ee6c8",
   "metadata": {},
   "source": [
    "#### Prompt 1\n",
    "\n",
    "The OpenAI `chat completion` api allows to provide multiple messages with different `roles` to influene how the model interpret the input and geneate output. \n",
    "\n",
    "This prompt uses `user` role which is used to ask for a particular response from the LLM. We can think `user` role analogous to the input we type in a ChatGPT web interface. \n",
    "\n",
    "Few prompt engineering strategies used in the promt are:\n",
    "- provided the context of the task by mentioning that `the input data is an invoice in unstructured text format`\n",
    "- separated the input invoice text in a `separate line` so that the model can clearly distinguish the actual invoice data fom the instructions"
   ]
  },
  {
   "cell_type": "code",
   "execution_count": 6,
   "id": "d7ef341d-3555-42d5-ace2-09ece6ca1e0c",
   "metadata": {},
   "outputs": [
    {
     "name": "stdout",
     "output_type": "stream",
     "text": [
      "Output json:\n",
      " Based on the provided unstructured text from the invoice, here is an organized JSON representation of the data:\n",
      "\n",
      "```json\n",
      "{\n",
      "  \"invoice_details\": {\n",
      "    \"invoice_number\": \"1111\",\n",
      "    \"date\": \"2024-06-28\",\n",
      "    \"bill_to\": {\n",
      "      \"name\": \"Natasha Jones\",\n",
      "      \"company\": \"Central Beauty\",\n",
      "      \"address\": {\n",
      "        \"street\": \"123 Main St.\",\n",
      "        \"city\": \"Manhattan\",\n",
      "        \"state\": \"NY\",\n",
      "        \"zip\": \"98765\"\n",
      "      },\n",
      "      \"phone\": \"(321) 555-1234\"\n",
      "    },\n",
      "    \"contact\": {\n",
      "      \"phone\": \"(206) 555-1163\",\n",
      "      \"fax\": \"(206) 555-1164\",\n",
      "      \"email\": \"someone@websitegoeshere.com\"\n",
      "    },\n",
      "    \"items\": [\n",
      "      {\n",
      "        \"quantity\": 1,\n",
      "        \"description\": \"Item Number 1\",\n",
      "        \"unit_price\": 2.00,\n",
      "        \"amount\": 2.00,\n",
      "        \"discount\": 0\n",
      "      },\n",
      "      {\n",
      "        \"quantity\": 1,\n",
      "        \"description\": \"Item Number 2\",\n",
      "        \"unit_price\": 2.00,\n",
      "        \"amount\": 2.00,\n",
      "        \"discount\": 0\n",
      "      },\n",
      "      {\n",
      "        \"quantity\": 1,\n",
      "        \"description\": \"Item Number 3\",\n",
      "        \"unit_price\": 2.00,\n",
      "        \"amount\": 2.00,\n",
      "        \"discount\": 0\n",
      "      }\n",
      "    ],\n",
      "    \"subtotal\": 6.00,\n",
      "    \"tax\": {\n",
      "      \"rate\": 9.80,\n",
      "      \"amount\": 0.588\n",
      "    },\n",
      "    \"additional_discount\": {\n",
      "      \"percent\": 12,\n",
      "      \"amount\": 0.72\n",
      "    },\n",
      "    \"credit\": 1000.00,\n",
      "    \"balance_due\": -994.20,\n",
      "    \"discounts\": {\n",
      "      \"percentage_discount\": 10,\n",
      "      \"apply_to\": \"items over $100\"\n",
      "    },\n",
      "    \"thank_you_note\": \"Thank you for your business!\"\n",
      "  }\n",
      "}\n",
      "```\n",
      "\n",
      "### Explanation of the JSON Structure:\n",
      "\n",
      "- **invoice_details**: The main object containing all the details of the invoice.\n",
      "- **invoice_number**: The ID assigned to the invoice.\n",
      "- **date**: The date of the invoice.\n",
      "- **bill_to**: The recipient details including name, company, and address.\n",
      "- **contact**: Contact information related to the invoice issuer.\n",
      "- **items**: An array of items listed in the invoice, with details about each item including quantity, description, unit price, amount, and discount.\n",
      "- **subtotal**: The total before tax and discounts.\n",
      "- **tax**: Tax rate and calculated tax amount.\n",
      "- **additional_discount**: Information about extra discounts mentioned in the invoice.\n",
      "- **credit**: Any credit applied against the invoice.\n",
      "- **balance_due**: Amount owed after applying credit and discounts.\n",
      "- **discounts**: Offer details related to discounts based on conditions provided.\n",
      "- **thank_you_note**: A message expressing gratitude for the customer’s business.\n",
      "\n",
      "Feel free to modify the JSON structure based on any additional or specific requirements!\n"
     ]
    }
   ],
   "source": [
    "# API call using prompt 1\n",
    "response1 = client.chat.completions.create(\n",
    "    model=\"gpt-4o-mini\",\n",
    "    messages=[\n",
    "        {\n",
    "            \"role\": \"user\", \n",
    "            \"content\": f\"Convert unstructured text from the invoice to json data.\\n Here is the unstructured text invoice: {invoice_text}\"\n",
    "        }\n",
    "    ],\n",
    ")\n",
    "\n",
    "print(f\"Output json:\\n {response1.choices[0].message.content}\")"
   ]
  },
  {
   "cell_type": "code",
   "execution_count": 7,
   "id": "ce7392e5-3b9f-4dc9-ad06-3ad07cce16e4",
   "metadata": {},
   "outputs": [
    {
     "name": "stdout",
     "output_type": "stream",
     "text": [
      "CompletionUsage(completion_tokens=669, prompt_tokens=279, total_tokens=948, completion_tokens_details=CompletionTokensDetails(accepted_prediction_tokens=0, audio_tokens=0, reasoning_tokens=0, rejected_prediction_tokens=0), prompt_tokens_details=PromptTokensDetails(audio_tokens=0, cached_tokens=0))\n"
     ]
    }
   ],
   "source": [
    "#show token usage of api call\n",
    "print(response1.usage)"
   ]
  },
  {
   "cell_type": "markdown",
   "id": "b0543597-75f0-489c-9d76-61c8a69964b2",
   "metadata": {},
   "source": [
    "The response of the `prompt 1` is very promising. The output json contain **most information** from the actual invoice and it is interesting to notice how the model created nested json for sub levels of `bill to information` and `contact information`. The output also explains the structure and information represented by each object in the json. However, one important point to note is that the output is missing key information about  the **billing company**. Hence, it might be better provide a sample json format which will be able instruct the LLM about the information that needs to be present in the output."
   ]
  },
  {
   "cell_type": "markdown",
   "id": "bc33c96b-9ea4-4ed6-bf90-9cccd0a13af5",
   "metadata": {},
   "source": [
    "#### Prompt 2\n",
    "\n",
    "This prompt uses both `system` role and `user` role. `System` role provides top-level instructions to the model, and typically describe what the model is supposed to do and how it should generally behave and respond, hence proactively providing the context of the task to the model.\n",
    "As we have already seen in `Prompt 1` that `user` role provides the information which is the invoice text in this case.\n",
    "\n",
    "Few prompt engineering strategies used in the promt are:\n",
    "- explicitly provided the output format of json\n",
    "- provided the context of the task using `system` role and added instruction for the model to generate output with context - `You convert unstructured text from invoices to json data`\n"
   ]
  },
  {
   "cell_type": "code",
   "execution_count": 20,
   "id": "5c550bb4-91e5-489e-9a62-a791fc715053",
   "metadata": {},
   "outputs": [],
   "source": [
    "json_schema = {'invoice': {'invoice_number': '',\n",
    "             'invoice_for': '',\n",
    "             'invoice_date': '12/12/2024',\n",
    "             'company_info': {'name': '',\n",
    "                              'street': '',\n",
    "                              'city': '',\n",
    "                              'state': '',\n",
    "                              'zip': '',\n",
    "                              'fax': '',\n",
    "                              'phone': '',\n",
    "                              'email': ''},\n",
    "             'billing_information': {'bill_to': {'name': '',\n",
    "                                                 'company': '',\n",
    "                                                 'street': '',\n",
    "                                                 'city': '',\n",
    "                                                 'state': '',\n",
    "                                                 'zip': '',\n",
    "                                                 'phone': ''},\n",
    "                                     'discount': '',\n",
    "                                     'items': [{'quantity': 0,\n",
    "                                                'description': '',\n",
    "                                                'unit_price': '',\n",
    "                                                'amount': 0.0,\n",
    "                                                'discount': ''}],\n",
    "                                     'subtotal': 0.0,\n",
    "                                     'credit': 0.0,\n",
    "                                     'tax': '',\n",
    "                                     'additional_discount': '',\n",
    "                                     'balance_due': 0.0,\n",
    "                                     'notes': ''}}}\n"
   ]
  },
  {
   "cell_type": "code",
   "execution_count": 21,
   "id": "4746d483-114d-498d-8e96-f47eb49cde19",
   "metadata": {},
   "outputs": [
    {
     "name": "stdout",
     "output_type": "stream",
     "text": [
      "Output json:\n",
      " ```json\n",
      "{\n",
      "  \"invoice\": {\n",
      "    \"invoice_number\": \"1111\",\n",
      "    \"invoice_for\": \"PO # 123456\",\n",
      "    \"invoice_date\": \"6/28/2024\",\n",
      "    \"company_info\": {\n",
      "      \"name\": \"Company Name\",\n",
      "      \"street\": \"321 Avenue A\",\n",
      "      \"city\": \"Portland\",\n",
      "      \"state\": \"OR\",\n",
      "      \"zip\": \"12345\",\n",
      "      \"fax\": \"(206) 555-1164\",\n",
      "      \"phone\": \"(206) 555-1163\",\n",
      "      \"email\": \"someone@websitegoeshere.com\"\n",
      "    },\n",
      "    \"billing_information\": {\n",
      "      \"bill_to\": {\n",
      "        \"name\": \"Natasha Jones\",\n",
      "        \"company\": \"Central Beauty\",\n",
      "        \"street\": \"123 Main St.\",\n",
      "        \"city\": \"Manhattan\",\n",
      "        \"state\": \"NY\",\n",
      "        \"zip\": \"98765\",\n",
      "        \"phone\": \"(321) 555-1234\"\n",
      "      },\n",
      "      \"discount\": \"10%\",\n",
      "      \"items\": [\n",
      "        {\n",
      "          \"quantity\": 1,\n",
      "          \"description\": \"Item Number 1\",\n",
      "          \"unit_price\": \"$2.00\",\n",
      "          \"amount\": 2.00,\n",
      "          \"discount\": \"\"\n",
      "        },\n",
      "        {\n",
      "          \"quantity\": 1,\n",
      "          \"description\": \"Item Number 2\",\n",
      "          \"unit_price\": \"$2.00\",\n",
      "          \"amount\": 2.00,\n",
      "          \"discount\": \"\"\n",
      "        },\n",
      "        {\n",
      "          \"quantity\": 1,\n",
      "          \"description\": \"Item Number 3\",\n",
      "          \"unit_price\": \"$2.00\",\n",
      "          \"amount\": 2.00,\n",
      "          \"discount\": \"\"\n",
      "        }\n",
      "      ],\n",
      "      \"subtotal\": 6.00,\n",
      "      \"credit\": 1000.00,\n",
      "      \"tax\": \"9.80%\",\n",
      "      \"additional_discount\": \"12%\",\n",
      "      \"balance_due\": -994.20,\n",
      "      \"notes\": \"Items over this amount qualify for an additional discount $100\"\n",
      "    }\n",
      "  }\n",
      "}\n",
      "```\n"
     ]
    }
   ],
   "source": [
    "# api call using prompt2 for the completion task\n",
    "response2 = client.chat.completions.create(\n",
    "    model=\"gpt-4o-mini\",\n",
    "    messages=[\n",
    "        {\n",
    "            \"role\": \"system\", \n",
    "            \"content\": f\"You convert unstructured text from invoices to json data \\nHere is an example of output json data: \\n {json.dumps(json_schema)}\"\n",
    "        },\n",
    "        {\n",
    "            \"role\": \"user\", \n",
    "            \"content\": f\"Here is the unstructured text: {invoice_text}\"\n",
    "        }\n",
    "    ],\n",
    ")\n",
    "\n",
    "print(f\"Output json:\\n {response2.choices[0].message.content}\")"
   ]
  },
  {
   "cell_type": "code",
   "execution_count": 22,
   "id": "49dd62a4-cc5f-4ed7-a807-c34cb740cb11",
   "metadata": {},
   "outputs": [
    {
     "name": "stdout",
     "output_type": "stream",
     "text": [
      "CompletionUsage(completion_tokens=424, prompt_tokens=466, total_tokens=890, completion_tokens_details=CompletionTokensDetails(accepted_prediction_tokens=0, audio_tokens=0, reasoning_tokens=0, rejected_prediction_tokens=0), prompt_tokens_details=PromptTokensDetails(audio_tokens=0, cached_tokens=0))\n"
     ]
    }
   ],
   "source": [
    "#show token usage of api call\n",
    "print(response2.usage)"
   ]
  },
  {
   "cell_type": "markdown",
   "id": "599c1fbe-a14c-40b8-9e01-49d96819ca99",
   "metadata": {},
   "source": [
    "The issue of missing information for `company` is not longer present in the prompt 2 output. This is because we provided the output format of json as a guide for the model. The model generated the json output exactly in same schema as provided in the prompt. Prompt 2 used more input tokens `466` as compared to `279` of prompt 1 because we provided addtional text in input to specify the json format.  This is an important thing to consider when using APIs because the the API is billed based on number of tokens in the reuest and response. However, the output tokens of prompt 2 (`424`) are less compared to `669` of prompt 1, because prompt 1 generated more output with additional explanations apart from the actual json data. As output tokens are billed at a higher rate than input tokens, hence in this case prompt 2 would have **lower cost**. *This highlights an important aspect of prompt engineering: that by right use/crafting of prompts we can achieve better results with reduced cost.*"
   ]
  },
  {
   "cell_type": "code",
   "execution_count": null,
   "id": "cf3eef97-b051-4c71-8495-542262c672d0",
   "metadata": {},
   "outputs": [],
   "source": []
  }
 ],
 "metadata": {
  "kernelspec": {
   "display_name": "Python 3 (ipykernel)",
   "language": "python",
   "name": "python3"
  },
  "language_info": {
   "codemirror_mode": {
    "name": "ipython",
    "version": 3
   },
   "file_extension": ".py",
   "mimetype": "text/x-python",
   "name": "python",
   "nbconvert_exporter": "python",
   "pygments_lexer": "ipython3",
   "version": "3.12.7"
  }
 },
 "nbformat": 4,
 "nbformat_minor": 5
}
