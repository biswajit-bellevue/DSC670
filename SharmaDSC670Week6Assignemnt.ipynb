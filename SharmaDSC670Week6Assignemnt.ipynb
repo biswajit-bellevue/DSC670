{
 "cells": [
  {
   "cell_type": "markdown",
   "id": "f7b95164-6963-4658-ba23-867bfd9bf8bd",
   "metadata": {},
   "source": [
    "## Assignment Week 6\n",
    "\n",
    "### RAG using Wikipedia"
   ]
  },
  {
   "cell_type": "markdown",
   "id": "df5cee83-c623-463b-8456-3e7b9fb39d48",
   "metadata": {},
   "source": [
    "RAG is a technique of optimizing the output of a large language model, so it references an knowledge outside of its training data sources before generating a response. RAG can be used to augment the LLM knowledge with information that was not part of the original training data. In the below activity RAG approach is used with OpenAPI LLM model (chatgp-4o-mini) which have a knwedge cut of date of `Oct-2023`. Hence, gpt-4o-mini moel will not be able to accurately answer information about events that happened after the `cut-off` date. Hoever, it may still make up some answer even it was not part of training data, but that may be false or not trustworthy. Using, RAG approach relevant and trustworthy response can be received by passing the additional data in the context.\n",
    "\n",
    "For this exercise, question about wildfires that happened in Jnuary 2025 will be sent to LLM `without RAG approach`, and the same questions will be asked by providing information in the context about California 2025 wildfires from Wikipedia web page `January 2025 Souther California` using `RAG approach`.  Then the responses are investigated."
   ]
  },
  {
   "cell_type": "code",
   "execution_count": 1,
   "id": "ed9b6b32-abd9-4f9c-b875-98ba1469b671",
   "metadata": {},
   "outputs": [],
   "source": [
    "import json\n",
    "import os"
   ]
  },
  {
   "cell_type": "code",
   "execution_count": 2,
   "id": "ddd5dee0-7959-4fd9-a85b-f768ab69150e",
   "metadata": {},
   "outputs": [],
   "source": [
    "# get api key from file\n",
    "with open(\"../../apikeys/openai-keys.json\", \"r\") as key_file:\n",
    "    api_key = json.load(key_file)[\"default_api_key\"]\n",
    "os.environ[\"OPENAI_API_KEY\"] = api_key"
   ]
  },
  {
   "cell_type": "markdown",
   "id": "862245db-74e6-43d5-aa7c-1d28fa9ae8b0",
   "metadata": {},
   "source": [
    "##### Load Wikipedia page"
   ]
  },
  {
   "cell_type": "code",
   "execution_count": 3,
   "id": "78ed5716-7dbf-4fe8-ac80-6e308e9810e4",
   "metadata": {},
   "outputs": [],
   "source": [
    "from langchain.document_loaders import WikipediaLoader\n",
    "from langchain.text_splitter import RecursiveCharacterTextSplitter"
   ]
  },
  {
   "cell_type": "code",
   "execution_count": 4,
   "id": "c1ecbbe1-bf5d-4ad8-8631-72a397bb99df",
   "metadata": {},
   "outputs": [],
   "source": [
    "search_term = \"January 2025 Southern California wildfires\"\n",
    "docs = WikipediaLoader(query=search_term, load_max_docs=2).load()"
   ]
  },
  {
   "cell_type": "code",
   "execution_count": 5,
   "id": "e8d9efbb-f69c-456e-9726-14f81c3967e6",
   "metadata": {},
   "outputs": [
    {
     "name": "stdout",
     "output_type": "stream",
     "text": [
      "Length of docs: 2\n",
      "{\n",
      "  \"title\": \"January 2025 Southern California wildfires\",\n",
      "  \"summary\": \"Since January 7, 2025, an ongoing series of 23 catastrophic wildfires have affected the Los Angeles metropolitan area and surrounding regions. The fires have been exacerbated by drought conditions, low humidity, and hurricane-force Santa Ana winds, which in some places have reached 100 miles per hour (160 km/h; 45 m/s). As of January 14, 2025, the wildfires have killed at least 25 people, forced over 200,000 to evacuate, and destroyed or damaged more than 12,401 structures. Most of the damage has been done by the two largest fires: the Palisades Fire in Pacific Palisades and the Eaton Fire in Altadena. They are likely the second and fourth most destructive fires in California's history, respectively.\\n\\n\",\n",
      "  \"source\": \"https://en.wikipedia.org/wiki/January_2025_Southern_California_wildfires\"\n",
      "}\n"
     ]
    }
   ],
   "source": [
    "print(f\"Length of docs: {len(docs)}\")\n",
    "print(f\"{json.dumps(docs[0].metadata, indent=2)}\")"
   ]
  },
  {
   "cell_type": "markdown",
   "id": "038e260b-acb2-471a-8f81-45bdbebd8145",
   "metadata": {},
   "source": [
    "In RAG approach, the additional infomation from knowledge base is first chunked (splitted) and stored as vector embeddings in a vector database."
   ]
  },
  {
   "cell_type": "markdown",
   "id": "f689dc3f-1a79-43d8-abfc-9046d728481a",
   "metadata": {},
   "source": [
    "1. Perform Chunking"
   ]
  },
  {
   "cell_type": "code",
   "execution_count": 6,
   "id": "61401c1c-4e99-4bd8-a589-53c182332746",
   "metadata": {},
   "outputs": [
    {
     "data": {
      "text/plain": [
       "[Document(metadata={'title': 'January 2025 Southern California wildfires', 'summary': \"Since January 7, 2025, an ongoing series of 23 catastrophic wildfires have affected the Los Angeles metropolitan area and surrounding regions. The fires have been exacerbated by drought conditions, low humidity, and hurricane-force Santa Ana winds, which in some places have reached 100 miles per hour (160 km/h; 45 m/s). As of January 14, 2025, the wildfires have killed at least 25 people, forced over 200,000 to evacuate, and destroyed or damaged more than 12,401 structures. Most of the damage has been done by the two largest fires: the Palisades Fire in Pacific Palisades and the Eaton Fire in Altadena. They are likely the second and fourth most destructive fires in California's history, respectively.\\n\\n\", 'source': 'https://en.wikipedia.org/wiki/January_2025_Southern_California_wildfires'}, page_content='Since January 7, 2025, an ongoing series of 23 catastrophic wildfires have affected the Los Angeles metropolitan area and surrounding regions. The fires have been exacerbated by drought conditions, low humidity, and hurricane-force Santa Ana winds, which in some places have reached 100 miles per hour (160 km/h; 45 m/s). As of January 14, 2025, the wildfires have killed at least 25 people, forced over 200,000 to evacuate, and destroyed or damaged more than 12,401 structures. Most of the damage'),\n",
       " Document(metadata={'title': 'January 2025 Southern California wildfires', 'summary': \"Since January 7, 2025, an ongoing series of 23 catastrophic wildfires have affected the Los Angeles metropolitan area and surrounding regions. The fires have been exacerbated by drought conditions, low humidity, and hurricane-force Santa Ana winds, which in some places have reached 100 miles per hour (160 km/h; 45 m/s). As of January 14, 2025, the wildfires have killed at least 25 people, forced over 200,000 to evacuate, and destroyed or damaged more than 12,401 structures. Most of the damage has been done by the two largest fires: the Palisades Fire in Pacific Palisades and the Eaton Fire in Altadena. They are likely the second and fourth most destructive fires in California's history, respectively.\\n\\n\", 'source': 'https://en.wikipedia.org/wiki/January_2025_Southern_California_wildfires'}, page_content=\"more than 12,401 structures. Most of the damage has been done by the two largest fires: the Palisades Fire in Pacific Palisades and the Eaton Fire in Altadena. They are likely the second and fourth most destructive fires in California's history, respectively.\"),\n",
       " Document(metadata={'title': 'January 2025 Southern California wildfires', 'summary': \"Since January 7, 2025, an ongoing series of 23 catastrophic wildfires have affected the Los Angeles metropolitan area and surrounding regions. The fires have been exacerbated by drought conditions, low humidity, and hurricane-force Santa Ana winds, which in some places have reached 100 miles per hour (160 km/h; 45 m/s). As of January 14, 2025, the wildfires have killed at least 25 people, forced over 200,000 to evacuate, and destroyed or damaged more than 12,401 structures. Most of the damage has been done by the two largest fires: the Palisades Fire in Pacific Palisades and the Eaton Fire in Altadena. They are likely the second and fourth most destructive fires in California's history, respectively.\\n\\n\", 'source': 'https://en.wikipedia.org/wiki/January_2025_Southern_California_wildfires'}, page_content='== Background ==')]"
      ]
     },
     "execution_count": 6,
     "metadata": {},
     "output_type": "execute_result"
    }
   ],
   "source": [
    "\n",
    "text_splitter = RecursiveCharacterTextSplitter(\n",
    "    chunk_size = 500,\n",
    "    chunk_overlap  = 50,\n",
    "    length_function = len,\n",
    "    is_separator_regex = False,\n",
    ")\n",
    "\n",
    "data = text_splitter.split_documents(docs)\n"
   ]
  },
  {
   "cell_type": "markdown",
   "id": "df77c441-85be-4ed4-b634-0c81d5b5d79a",
   "metadata": {},
   "source": [
    "The chunk size is a parameter that can be used to adjust the number of characters in each chunks, which may need adjustment based on the use case and also can be used to control number of tokens for cost optimization. Larger chunks menas more tokens.\n",
    "\n",
    "Generally some overlap is kept between chunks to not abruptly cut off text which may result in loss of semantic coherence. \n",
    "\n",
    "Here cunks are created from splits at 500 characters with an overlap of 50 characters."
   ]
  },
  {
   "cell_type": "markdown",
   "id": "2c0f3245-3489-4a29-bf65-c6d524703a08",
   "metadata": {},
   "source": [
    "It is also a good idea to get the number of tokens chunks may consume."
   ]
  },
  {
   "cell_type": "code",
   "execution_count": 7,
   "id": "57c12c6e-12c9-4cc0-98d0-5bbca8d9dd4b",
   "metadata": {},
   "outputs": [],
   "source": [
    "import tiktoken as tk"
   ]
  },
  {
   "cell_type": "code",
   "execution_count": 8,
   "id": "3e767e92-e90d-49a8-9aa2-c1bca7f90adc",
   "metadata": {},
   "outputs": [
    {
     "data": {
      "text/plain": [
       "113"
      ]
     },
     "execution_count": 8,
     "metadata": {},
     "output_type": "execute_result"
    }
   ],
   "source": [
    "encoding = tk.get_encoding(\"cl100k_base\")\n",
    "encoded_string = encoding.encode(data[0].page_content)\n",
    "num_tokens = len(encoded_string)\n",
    "num_tokens"
   ]
  },
  {
   "cell_type": "markdown",
   "id": "10bee75c-c35a-48f6-aeff-57a033446aee",
   "metadata": {},
   "source": [
    "2. Generate embeddings and store embeddings in vector database"
   ]
  },
  {
   "cell_type": "code",
   "execution_count": 9,
   "id": "4e765170-5f9c-4ea6-9765-49f9a07f35c1",
   "metadata": {},
   "outputs": [],
   "source": [
    "from langchain.vectorstores import Chroma\n",
    "from langchain_openai import OpenAIEmbeddings"
   ]
  },
  {
   "attachments": {},
   "cell_type": "markdown",
   "id": "ed8979ea-8b21-4e8c-bf4e-3ea72d7650ef",
   "metadata": {},
   "source": [
    "The chunks are converted to vector embeddings and stored in a vector database which enables retrieval of relevant information from the knowledge base matching the user query and sent as context in the prompt to LLM.\n",
    "\n",
    "Open AI's [text-embedding-3-small][1] embedding model is used to generate the embeddings. it is important to note that this model is not Gen AI model, instead it is used to generates vector embedings. \n",
    "\n",
    "[1]:https://platform.openai.com/docs/guides/embeddings"
   ]
  },
  {
   "cell_type": "code",
   "execution_count": 10,
   "id": "deda5020-a7d2-47b1-b49c-e482b4799f8c",
   "metadata": {},
   "outputs": [],
   "source": [
    "embeddings = OpenAIEmbeddings(model=\"text-embedding-3-small\")"
   ]
  },
  {
   "cell_type": "code",
   "execution_count": 11,
   "id": "ab70bbbc-f215-4174-92ec-4a14ad983ee1",
   "metadata": {},
   "outputs": [],
   "source": [
    "store = Chroma.from_documents(\n",
    "    collection_name=\"wikipedia_california_fire_embeddings\",\n",
    "    documents=data,\n",
    "    embedding=embeddings,\n",
    "    ids=[f\"{doc.metadata['source']}_{index}\" for index, doc in enumerate(data)],\n",
    "    persist_directory=\"./vector-stores/chroma/\"\n",
    ")"
   ]
  },
  {
   "cell_type": "markdown",
   "id": "475b5e2b-1d95-4c79-b6ec-4f807cf1b084",
   "metadata": {},
   "source": [
    "#### Asking questions about 2025 January California wildfires"
   ]
  },
  {
   "cell_type": "code",
   "execution_count": 12,
   "id": "a7d7d852-5a5f-4f05-bbf0-e7f85efa694d",
   "metadata": {},
   "outputs": [],
   "source": [
    "from langchain_openai import ChatOpenAI"
   ]
  },
  {
   "cell_type": "markdown",
   "id": "8d421a69-7636-48fc-81ca-f963ce646a3c",
   "metadata": {},
   "source": [
    "#### Without RAG"
   ]
  },
  {
   "cell_type": "markdown",
   "id": "927bdf66-aad1-41d7-8ff8-204278d5cc85",
   "metadata": {},
   "source": [
    "Question 1: How many people were killed in southern california wildfire in January 2025?"
   ]
  },
  {
   "cell_type": "code",
   "execution_count": 13,
   "id": "cafdb8d5-2788-453d-bffc-cf6ec44a900a",
   "metadata": {},
   "outputs": [],
   "source": [
    "openai_model = ChatOpenAI(model=\"gpt-4o-mini\")"
   ]
  },
  {
   "cell_type": "code",
   "execution_count": 39,
   "id": "925fb0a2-3fdf-424e-85b1-7f4f75d97f16",
   "metadata": {},
   "outputs": [],
   "source": [
    "messages=[\n",
    "        {\n",
    "            \"role\": \"system\", \n",
    "            \"content\": f\"You are a bot that answers questions about January 2025 Southern California wildfires.\\n\\\n",
    "            If you donot know the answer, simply state that you donot know.\"\n",
    "        },\n",
    "        {\n",
    "            \"role\": \"user\", \n",
    "            \"content\": f\"Q: How many people were killed in southern california wildfire in January 2025?\\nA:\"\n",
    "        }\n",
    "    ]"
   ]
  },
  {
   "cell_type": "code",
   "execution_count": 40,
   "id": "23a988ed-fb9e-4811-935d-d98cac780b8f",
   "metadata": {},
   "outputs": [],
   "source": [
    "response = openai_model.invoke(messages)"
   ]
  },
  {
   "cell_type": "code",
   "execution_count": 41,
   "id": "0f02dc7a-f317-4bc1-8b34-21b739385884",
   "metadata": {},
   "outputs": [
    {
     "data": {
      "text/plain": [
       "'I do not know.'"
      ]
     },
     "execution_count": 41,
     "metadata": {},
     "output_type": "execute_result"
    }
   ],
   "source": [
    "print(f\"Response from LLM without RAG:\\n {response.content}\")"
   ]
  },
  {
   "cell_type": "markdown",
   "id": "04e81e85-f3ec-487b-8183-465761b8e95b",
   "metadata": {},
   "source": [
    "OpenAI LLM was not able to answer the question about California fire that broke out in January 2025 because the `cut-off` date of the model is Oct 2023 and it does not have knowledge about 2025 California wildfires. \n",
    "\n",
    "Note - LLM was instructed to simply say `Do not know` if it doesnot have a answer rather than making up a inaccurate answer."
   ]
  },
  {
   "cell_type": "markdown",
   "id": "1b3fe5fa-06af-4442-99ae-8f5ace900cb3",
   "metadata": {},
   "source": [
    "#### Without RAG"
   ]
  },
  {
   "cell_type": "code",
   "execution_count": 32,
   "id": "2ec3b590-f9db-4a11-bf0b-ebe36607c0f6",
   "metadata": {},
   "outputs": [],
   "source": [
    "from langchain.chains import RetrievalQA\n",
    "from langchain.prompts import PromptTemplate\n",
    "import pprint"
   ]
  },
  {
   "cell_type": "code",
   "execution_count": 34,
   "id": "5bf124c0-7039-4b61-9c40-86a5d9a066c3",
   "metadata": {},
   "outputs": [],
   "source": [
    "template = \"You are a bot that answers questions about January 2025 Southern California wildfires.\\n\\\n",
    "            If you donot know the answer, simply state that you donot know.\\n\\\n",
    "            {context}\\n\\\n",
    "            Question: {question}\"\n",
    "\n",
    "PROMPT = PromptTemplate(\n",
    "    template=template, input_variables=[\"context\", \"question\"]\n",
    ")"
   ]
  },
  {
   "cell_type": "code",
   "execution_count": 35,
   "id": "143a944b-dec9-47af-9c37-82ab4b38b7e2",
   "metadata": {},
   "outputs": [],
   "source": [
    "llm = ChatOpenAI(temperature=0, model=\"gpt-4o-mini\")"
   ]
  },
  {
   "cell_type": "code",
   "execution_count": 36,
   "id": "16337306-adf1-4b4c-92e0-65eaffce3d3a",
   "metadata": {},
   "outputs": [],
   "source": [
    "qa_with_source = RetrievalQA.from_chain_type(\n",
    "    llm=llm,\n",
    "    chain_type=\"stuff\",\n",
    "    retriever=store.as_retriever(),\n",
    "    chain_type_kwargs={\"prompt\": PROMPT, },\n",
    "    return_source_documents=True,\n",
    ")"
   ]
  },
  {
   "cell_type": "code",
   "execution_count": 38,
   "id": "0b3e6d44-c31a-41e6-9a85-3640c788464b",
   "metadata": {},
   "outputs": [
    {
     "name": "stdout",
     "output_type": "stream",
     "text": [
      "{'query': 'how many people were killed in souther calrifornia wildfire in '\n",
      "          'January 2025?',\n",
      " 'result': 'As of January 14, 2025, the wildfires in Southern California have '\n",
      "           'killed at least 25 people.',\n",
      " 'source_documents': [Document(metadata={'source': 'https://en.wikipedia.org/wiki/January_2025_Southern_California_wildfires', 'summary': \"Since January 7, 2025, an ongoing series of 23 catastrophic wildfires have affected the Los Angeles metropolitan area and surrounding regions. The fires have been exacerbated by drought conditions, low humidity, and hurricane-force Santa Ana winds, which in some places have reached 100 miles per hour (160 km/h; 45 m/s). As of January 14, 2025, the wildfires have killed at least 25 people, forced over 200,000 to evacuate, and destroyed or damaged more than 12,401 structures. Most of the damage has been done by the two largest fires: the Palisades Fire in Pacific Palisades and the Eaton Fire in Altadena. They are likely the second and fourth most destructive fires in California's history, respectively.\\n\\n\", 'title': 'January 2025 Southern California wildfires'}, page_content='Since January 7, 2025, an ongoing series of 23 catastrophic wildfires have affected the Los Angeles metropolitan area and surrounding regions. The fires have been exacerbated by drought conditions, low humidity, and hurricane-force Santa Ana winds, which in some places have reached 100 miles per hour (160 km/h; 45 m/s). As of January 14, 2025, the wildfires have killed at least 25 people, forced over 200,000 to evacuate, and destroyed or damaged more than 12,401 structures. Most of the damage'),\n",
      "                      Document(metadata={'source': 'https://en.wikipedia.org/wiki/2025_in_the_United_States', 'summary': 'The following is a list of events of the year 2025 in the United States, as well as predicted and scheduled events that have not yet occurred. The start of the year has been dominated by the January 2025 Southern California wildfires, which have devastated Greater Los Angeles. \\n\\n', 'title': '2025 in the United States'}, page_content='The following is a list of events of the year 2025 in the United States, as well as predicted and scheduled events that have not yet occurred. The start of the year has been dominated by the January 2025 Southern California wildfires, which have devastated Greater Los Angeles. \\n\\n\\n== Incumbents =='),\n",
      "                      Document(metadata={'source': 'https://en.wikipedia.org/wiki/January_2025_Southern_California_wildfires', 'summary': \"Since January 7, 2025, an ongoing series of 23 catastrophic wildfires have affected the Los Angeles metropolitan area and surrounding regions. The fires have been exacerbated by drought conditions, low humidity, and hurricane-force Santa Ana winds, which in some places have reached 100 miles per hour (160 km/h; 45 m/s). As of January 14, 2025, the wildfires have killed at least 25 people, forced over 200,000 to evacuate, and destroyed or damaged more than 12,401 structures. Most of the damage has been done by the two largest fires: the Palisades Fire in Pacific Palisades and the Eaton Fire in Altadena. They are likely the second and fourth most destructive fires in California's history, respectively.\\n\\n\", 'title': 'January 2025 Southern California wildfires'}, page_content=\"more than 12,401 structures. Most of the damage has been done by the two largest fires: the Palisades Fire in Pacific Palisades and the Eaton Fire in Altadena. They are likely the second and fourth most destructive fires in California's history, respectively.\"),\n",
      "                      Document(metadata={'source': 'https://en.wikipedia.org/wiki/January_2025_Southern_California_wildfires', 'summary': \"Since January 7, 2025, an ongoing series of 23 catastrophic wildfires have affected the Los Angeles metropolitan area and surrounding regions. The fires have been exacerbated by drought conditions, low humidity, and hurricane-force Santa Ana winds, which in some places have reached 100 miles per hour (160 km/h; 45 m/s). As of January 14, 2025, the wildfires have killed at least 25 people, forced over 200,000 to evacuate, and destroyed or damaged more than 12,401 structures. Most of the damage has been done by the two largest fires: the Palisades Fire in Pacific Palisades and the Eaton Fire in Altadena. They are likely the second and fourth most destructive fires in California's history, respectively.\\n\\n\", 'title': 'January 2025 Southern California wildfires'}, page_content='The windstorm and resulting fire danger was well-forecast. On January 2, the National Interagency Fire Center warned that conditions in Southern California fostered \"above normal significant fire potential.\" That same day, local National Weather Service (NWS) forecasts noted the potential for intense fires and issued a Fire Weather Watch. On January 3, the Storm Prediction Center (SPC) forecast a critical risk of fire weather that would occur on January 8, and by January 7, on the first day of')]}\n"
     ]
    }
   ],
   "source": [
    "pprint.pprint(\n",
    "    qa_with_source(\"How many people were killed in southern california wildfire in January 2025?\")\n",
    ")"
   ]
  },
  {
   "cell_type": "markdown",
   "id": "d9358c0a-0440-4bf6-951a-9b1ecfd672cc",
   "metadata": {},
   "source": [
    "RAG approach is working as expected. LLM was able to accurately answer the question that southern California wildfires in january 2025 \"killed at least 25 people\". As we see above that the prompt includes the information about the southern california wildfires from the Wikipedia in the `context`. The `retriever` first retrived the context information from the vector database that closely matches the user question and then included it as part of the prompt for the LLM call."
   ]
  },
  {
   "cell_type": "markdown",
   "id": "4e18e6d7-f961-498b-a76d-dfc5c1006ece",
   "metadata": {},
   "source": [
    "#### Without RAG"
   ]
  },
  {
   "cell_type": "markdown",
   "id": "835a00dd-971f-4f38-91ca-661c42ddcde2",
   "metadata": {},
   "source": [
    "Question 2: What is largest wildfire among california wildfires in 2025?"
   ]
  },
  {
   "cell_type": "code",
   "execution_count": 43,
   "id": "dec40159-1cd9-483e-816b-037c0cc41be2",
   "metadata": {},
   "outputs": [],
   "source": [
    "messages=[\n",
    "        {\n",
    "            \"role\": \"system\", \n",
    "            \"content\": f\"You are a bot that answers questions about January 2025 Southern California wildfires.\\n\\\n",
    "            If you donot know the answer, simply state that you donot know.\"\n",
    "        },\n",
    "        {\n",
    "            \"role\": \"user\", \n",
    "            \"content\": f\"Q: What is largest wildfire among california wildfires in 2025?\\nA:\"\n",
    "        }\n",
    "    ]"
   ]
  },
  {
   "cell_type": "code",
   "execution_count": 44,
   "id": "60e40a71-159d-4a0c-bdc5-fefd32fc10d5",
   "metadata": {},
   "outputs": [],
   "source": [
    "response = openai_model.invoke(messages)"
   ]
  },
  {
   "cell_type": "code",
   "execution_count": 45,
   "id": "d50826ed-ac6c-4a6c-af6c-69ef1fcb3831",
   "metadata": {},
   "outputs": [
    {
     "name": "stdout",
     "output_type": "stream",
     "text": [
      "Response from LLM without RAG:\n",
      " I do not know.\n"
     ]
    }
   ],
   "source": [
    "print(f\"Response from LLM without RAG:\\n {response.content}\")"
   ]
  },
  {
   "cell_type": "markdown",
   "id": "4e244400-efad-4764-95ab-66f0dcc52f38",
   "metadata": {},
   "source": [
    "Same observation as question 1, OpenAI LLM was not able to answer the question. "
   ]
  },
  {
   "cell_type": "markdown",
   "id": "d3eac5f1-3f39-46dd-957a-15f341196286",
   "metadata": {},
   "source": [
    "#### With RAG"
   ]
  },
  {
   "cell_type": "code",
   "execution_count": 46,
   "id": "e878b415-0a88-412e-a7b0-cfadc40c27c6",
   "metadata": {},
   "outputs": [
    {
     "name": "stdout",
     "output_type": "stream",
     "text": [
      "{'query': 'What is largest wildfire among california wildfires in 2025?',\n",
      " 'result': 'The largest wildfire among the California wildfires in 2025 is the '\n",
      "           'Palisades Fire in Pacific Palisades.',\n",
      " 'source_documents': [Document(metadata={'source': 'https://en.wikipedia.org/wiki/January_2025_Southern_California_wildfires', 'summary': \"Since January 7, 2025, an ongoing series of 23 catastrophic wildfires have affected the Los Angeles metropolitan area and surrounding regions. The fires have been exacerbated by drought conditions, low humidity, and hurricane-force Santa Ana winds, which in some places have reached 100 miles per hour (160 km/h; 45 m/s). As of January 14, 2025, the wildfires have killed at least 25 people, forced over 200,000 to evacuate, and destroyed or damaged more than 12,401 structures. Most of the damage has been done by the two largest fires: the Palisades Fire in Pacific Palisades and the Eaton Fire in Altadena. They are likely the second and fourth most destructive fires in California's history, respectively.\\n\\n\", 'title': 'January 2025 Southern California wildfires'}, page_content='Since January 7, 2025, an ongoing series of 23 catastrophic wildfires have affected the Los Angeles metropolitan area and surrounding regions. The fires have been exacerbated by drought conditions, low humidity, and hurricane-force Santa Ana winds, which in some places have reached 100 miles per hour (160 km/h; 45 m/s). As of January 14, 2025, the wildfires have killed at least 25 people, forced over 200,000 to evacuate, and destroyed or damaged more than 12,401 structures. Most of the damage'),\n",
      "                      Document(metadata={'source': 'https://en.wikipedia.org/wiki/January_2025_Southern_California_wildfires', 'summary': \"Since January 7, 2025, an ongoing series of 23 catastrophic wildfires have affected the Los Angeles metropolitan area and surrounding regions. The fires have been exacerbated by drought conditions, low humidity, and hurricane-force Santa Ana winds, which in some places have reached 100 miles per hour (160 km/h; 45 m/s). As of January 14, 2025, the wildfires have killed at least 25 people, forced over 200,000 to evacuate, and destroyed or damaged more than 12,401 structures. Most of the damage has been done by the two largest fires: the Palisades Fire in Pacific Palisades and the Eaton Fire in Altadena. They are likely the second and fourth most destructive fires in California's history, respectively.\\n\\n\", 'title': 'January 2025 Southern California wildfires'}, page_content=\"more than 12,401 structures. Most of the damage has been done by the two largest fires: the Palisades Fire in Pacific Palisades and the Eaton Fire in Altadena. They are likely the second and fourth most destructive fires in California's history, respectively.\"),\n",
      "                      Document(metadata={'source': 'https://en.wikipedia.org/wiki/2025_in_the_United_States', 'summary': 'The following is a list of events of the year 2025 in the United States, as well as predicted and scheduled events that have not yet occurred. The start of the year has been dominated by the January 2025 Southern California wildfires, which have devastated Greater Los Angeles. \\n\\n', 'title': '2025 in the United States'}, page_content='The following is a list of events of the year 2025 in the United States, as well as predicted and scheduled events that have not yet occurred. The start of the year has been dominated by the January 2025 Southern California wildfires, which have devastated Greater Los Angeles. \\n\\n\\n== Incumbents =='),\n",
      "                      Document(metadata={'source': 'https://en.wikipedia.org/wiki/January_2025_Southern_California_wildfires', 'summary': \"Since January 7, 2025, an ongoing series of 23 catastrophic wildfires have affected the Los Angeles metropolitan area and surrounding regions. The fires have been exacerbated by drought conditions, low humidity, and hurricane-force Santa Ana winds, which in some places have reached 100 miles per hour (160 km/h; 45 m/s). As of January 14, 2025, the wildfires have killed at least 25 people, forced over 200,000 to evacuate, and destroyed or damaged more than 12,401 structures. Most of the damage has been done by the two largest fires: the Palisades Fire in Pacific Palisades and the Eaton Fire in Altadena. They are likely the second and fourth most destructive fires in California's history, respectively.\\n\\n\", 'title': 'January 2025 Southern California wildfires'}, page_content=\"and Northern California instead, due to El Niño–Southern Oscillation (ENSO) changing from El Niño to La Niña, which had emerged by January 2025 as a weak La Niña. By late December 2024, most of Los Angeles County had entered moderate drought status, creating heightened fire vulnerability due to desiccated vegetation in what was traditionally the region's wet season.\")]}\n"
     ]
    }
   ],
   "source": [
    "pprint.pprint(\n",
    "    qa_with_source(\"What is largest wildfire among california wildfires in 2025?\")\n",
    ")"
   ]
  },
  {
   "cell_type": "markdown",
   "id": "c2bdec04-3ecd-4142-958d-f11317db90ad",
   "metadata": {},
   "source": [
    "Received the corcect response from LLM about te largest wildfire among all the southern California wildfires in 2025 because the information about the lagest wildfire in 2025 is passed in the context of the prompt sent to LLM."
   ]
  },
  {
   "cell_type": "markdown",
   "id": "d5c60d11-69c0-4fae-b3d8-ef8f51c4ffdc",
   "metadata": {},
   "source": [
    "Apart from RAG's capability to provide reponses by using information from a knowledge base, the above responses also includes the source document from which the response were based. This is another important factor in RAG approach which allows the user to trust the answer and make sure the response is grounded in the knowledge base."
   ]
  },
  {
   "cell_type": "code",
   "execution_count": null,
   "id": "d8990575-343a-4b02-a694-f76d4c2cb793",
   "metadata": {},
   "outputs": [],
   "source": []
  }
 ],
 "metadata": {
  "kernelspec": {
   "display_name": "Python 3 (ipykernel)",
   "language": "python",
   "name": "python3"
  },
  "language_info": {
   "codemirror_mode": {
    "name": "ipython",
    "version": 3
   },
   "file_extension": ".py",
   "mimetype": "text/x-python",
   "name": "python",
   "nbconvert_exporter": "python",
   "pygments_lexer": "ipython3",
   "version": "3.12.7"
  }
 },
 "nbformat": 4,
 "nbformat_minor": 5
}
