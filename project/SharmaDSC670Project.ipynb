{
 "cells": [
  {
   "cell_type": "markdown",
   "id": "f7b95164-6963-4658-ba23-867bfd9bf8bd",
   "metadata": {},
   "source": [
    "## Term Project\n",
    "\n",
    "### Fine-Tuning"
   ]
  },
  {
   "cell_type": "markdown",
   "id": "df5cee83-c623-463b-8456-3e7b9fb39d48",
   "metadata": {},
   "source": [
    "LLM fine-tuning is a technique to adjust the wights of a LLM to make it generate tailored response for a specific task without the hassle of training and building a LLM from scratch. Fine tuning requires preparation of the task specific dataset, fine tune the model and then evaluate the performance of the fine-tuned model for qualitative and quantitative metrics.\n",
    "\n",
    "``` Prepare dataset >> Load dataset to OpenAI >> Start Fine Tuning Job >> Run test```"
   ]
  },
  {
   "cell_type": "markdown",
   "id": "5484fa56-3308-49d0-9683-432e08128888",
   "metadata": {},
   "source": [
    "In the assignment, we are fine-tuning Open AI `gpt-4o-mini` model so that it can act as an assistant which replies answers with emojis but instead of emoji it should reply **with words**.\n",
    "\n",
    "For example, if we ask about about a smiling face instead of 😀, it must respond with `(grinningface)`."
   ]
  },
  {
   "cell_type": "markdown",
   "id": "6f9023fb-878f-4256-a061-06da4de87580",
   "metadata": {},
   "source": [
    "1. Prepare Dataset"
   ]
  },
  {
   "cell_type": "markdown",
   "id": "374f6fa6-d9d7-47b4-b236-3ca4e371c913",
   "metadata": {},
   "source": [
    "Open AI fine tuning expects jsonl format with each line containing example with messages similar to [chat completion api format][1] (example below). It is a list of messages where each message has a role, content, and optional name. \n",
    "\n",
    "```\n",
    "{\"messages\": [{\"role\": \"system\", \"content\": \"Marv is a factual chatbot that is also sarcastic.\"}, {\"role\": \"user\", \"content\": \"What's the capital of France?\"}, {\"role\": \"assistant\", \"content\": \"Paris, as if everyone doesn't know that already.\"}]}\n",
    "{\"messages\": [{\"role\": \"system\", \"content\": \"Marv is a factual chatbot that is also sarcastic.\"}, {\"role\": \"user\", \"content\": \"Who wrote 'Romeo and Juliet'?\"}, {\"role\": \"assistant\", \"content\": \"Oh, just some guy named William Shakespeare. Ever heard of him?\"}]}\n",
    "{\"messages\": [{\"role\": \"system\", \"content\": \"Marv is a factual chatbot that is also sarcastic.\"}, {\"role\": \"user\", \"content\": \"How far is the Moon from Earth?\"}, {\"role\": \"assistant\", \"content\": \"Around 384,400 kilometers. Give or take a few, like that really matters.\"}]}\n",
    "```\n",
    "Data prepration is not required for this assignment because we are using already curated dataset from the author (Bahree, 2024) that follows the above jsonl format.\n",
    "\n",
    "[1]:https://platform.openai.com/docs/api-reference/chat/createm\n",
    "[2]:https://github.com/bahree/GenAIBook/tree/main/chapters/ch09/data"
   ]
  },
  {
   "cell_type": "code",
   "execution_count": 22,
   "id": "ed9b6b32-abd9-4f9c-b875-98ba1469b671",
   "metadata": {},
   "outputs": [],
   "source": [
    "import json\n",
    "from collections import defaultdict\n",
    "import matplotlib.pyplot as plt\n",
    "\n",
    "import numpy as np\n",
    "import tiktoken  \n",
    "import os\n",
    "import pprint\n",
    "import time\n",
    "import pandas as pd\n",
    "import jsonlines\n",
    "import json"
   ]
  },
  {
   "cell_type": "code",
   "execution_count": 23,
   "id": "13fbe3ac-7f5c-4e50-9b01-73e7e596ca48",
   "metadata": {},
   "outputs": [],
   "source": [
    "df = pd.read_csv(\"./datasets/train.csv\")"
   ]
  },
  {
   "cell_type": "code",
   "execution_count": 24,
   "id": "83f3eb92-e7a4-45bc-ad74-810970d2447e",
   "metadata": {},
   "outputs": [
    {
     "data": {
      "text/html": [
       "<div>\n",
       "<style scoped>\n",
       "    .dataframe tbody tr th:only-of-type {\n",
       "        vertical-align: middle;\n",
       "    }\n",
       "\n",
       "    .dataframe tbody tr th {\n",
       "        vertical-align: top;\n",
       "    }\n",
       "\n",
       "    .dataframe thead th {\n",
       "        text-align: right;\n",
       "    }\n",
       "</style>\n",
       "<table border=\"1\" class=\"dataframe\">\n",
       "  <thead>\n",
       "    <tr style=\"text-align: right;\">\n",
       "      <th></th>\n",
       "      <th>Context</th>\n",
       "      <th>Response</th>\n",
       "    </tr>\n",
       "  </thead>\n",
       "  <tbody>\n",
       "    <tr>\n",
       "      <th>0</th>\n",
       "      <td>I'm going through some things with my feelings...</td>\n",
       "      <td>If everyone thinks you're worthless, then mayb...</td>\n",
       "    </tr>\n",
       "    <tr>\n",
       "      <th>1</th>\n",
       "      <td>I'm going through some things with my feelings...</td>\n",
       "      <td>Hello, and thank you for your question and see...</td>\n",
       "    </tr>\n",
       "    <tr>\n",
       "      <th>2</th>\n",
       "      <td>I'm going through some things with my feelings...</td>\n",
       "      <td>First thing I'd suggest is getting the sleep y...</td>\n",
       "    </tr>\n",
       "    <tr>\n",
       "      <th>3</th>\n",
       "      <td>I'm going through some things with my feelings...</td>\n",
       "      <td>Therapy is essential for those that are feelin...</td>\n",
       "    </tr>\n",
       "    <tr>\n",
       "      <th>4</th>\n",
       "      <td>I'm going through some things with my feelings...</td>\n",
       "      <td>I first want to let you know that you are not ...</td>\n",
       "    </tr>\n",
       "  </tbody>\n",
       "</table>\n",
       "</div>"
      ],
      "text/plain": [
       "                                             Context  \\\n",
       "0  I'm going through some things with my feelings...   \n",
       "1  I'm going through some things with my feelings...   \n",
       "2  I'm going through some things with my feelings...   \n",
       "3  I'm going through some things with my feelings...   \n",
       "4  I'm going through some things with my feelings...   \n",
       "\n",
       "                                            Response  \n",
       "0  If everyone thinks you're worthless, then mayb...  \n",
       "1  Hello, and thank you for your question and see...  \n",
       "2  First thing I'd suggest is getting the sleep y...  \n",
       "3  Therapy is essential for those that are feelin...  \n",
       "4  I first want to let you know that you are not ...  "
      ]
     },
     "execution_count": 24,
     "metadata": {},
     "output_type": "execute_result"
    }
   ],
   "source": [
    "df.head()"
   ]
  },
  {
   "cell_type": "markdown",
   "id": "01beaea2-9f70-4638-87cd-fcc79b7db2ff",
   "metadata": {},
   "source": [
    "In order to keep the cost of fine tuning low the records having very large text will be dropped. Before dropping such text it is better to see the distribution of lengths to make a good estimate on how long text should be good estimate."
   ]
  },
  {
   "cell_type": "code",
   "execution_count": 25,
   "id": "27cdd98c-b180-4dcc-a900-986b8f095172",
   "metadata": {},
   "outputs": [],
   "source": [
    "#claculate the length of texts\n",
    "df[\"context_length\"] = df[\"Context\"].str.len()\n",
    "df[\"response_length\"] = df[\"Response\"].str.len()"
   ]
  },
  {
   "cell_type": "code",
   "execution_count": 26,
   "id": "49ec5f78-ca03-4c31-b5a4-a08f35724f17",
   "metadata": {},
   "outputs": [
    {
     "name": "stdout",
     "output_type": "stream",
     "text": [
      "Five point summary of context_length\n",
      " count    3512.000000\n",
      "mean      282.652335\n",
      "std       246.213884\n",
      "min        25.000000\n",
      "25%       147.000000\n",
      "50%       232.000000\n",
      "75%       348.250000\n",
      "max      2703.000000\n",
      "Name: context_length, dtype: float64\n"
     ]
    },
    {
     "data": {
      "image/png": "[encoded data removed]",
      "text/plain": [
       "<Figure size 640x480 with 1 Axes>"
      ]
     },
     "metadata": {},
     "output_type": "display_data"
    },
    {
     "name": "stdout",
     "output_type": "stream",
     "text": [
      "Five point summary of response_length\n",
      " count     3508.000000\n",
      "mean      1027.238883\n",
      "std       1010.811425\n",
      "min          1.000000\n",
      "25%        534.000000\n",
      "50%        836.000000\n",
      "75%       1274.000000\n",
      "max      32739.000000\n",
      "Name: response_length, dtype: float64\n"
     ]
    },
    {
     "data": {
      "image/png": "[encoded data removed]",
      "text/plain": [
       "<Figure size 640x480 with 1 Axes>"
      ]
     },
     "metadata": {},
     "output_type": "display_data"
    }
   ],
   "source": [
    "for cols in [\"context_length\", \"response_length\"]:\n",
    "    df[cols].hist(bins=40)\n",
    "    print(f\"Five point summary of {cols}\\n {df[cols].describe()}\")\n",
    "    plt.title(f\"Histogram of {cols}\")\n",
    "    plt.show()"
   ]
  },
  {
   "cell_type": "markdown",
   "id": "e2fc9658-b7d0-456b-8c96-c64748538c5e",
   "metadata": {},
   "source": [
    "Both the Question and th Response charcter length is heavily right skewed. hence, it will be a good estimate to discard records beyond 1.5IQR of Q3, i.e. Similarly very small responses may not be good response to the questions. It is a good estimate that any response less that 100 characters will not be a good response.\n",
    "```\n",
    "lower limit: 100\n",
    "upper limit: Q3 + 1.5IQR\n",
    "\n",
    "```"
   ]
  },
  {
   "cell_type": "code",
   "execution_count": 43,
   "id": "77a3d4e5-ac5c-4fc9-acfb-75893717f4a0",
   "metadata": {},
   "outputs": [],
   "source": [
    "def drop_large_txt_records(df):\n",
    "    for cols in [\"context_length\", \"response_length\"]:\n",
    "        q1 = df[cols].quantile(0.25)\n",
    "        q3 = df[cols].quantile(0.75)\n",
    "        IQR = q3-q1\n",
    "        upper_limit = q3 + 1.5*IQR\n",
    "        print(f\"Upper Limit for {cols}: {upper_limit}\")\n",
    "        print(f\"Shape before dropping records: {df.shape}\")\n",
    "        df = df.drop(df[df[cols] < 100].index)\n",
    "        df = df.drop(df[df[cols] > upper_limit].index)\n",
    "        print(f\"Shape after dropping records: {df.shape}\")\n",
    "    return df"
   ]
  },
  {
   "cell_type": "code",
   "execution_count": 44,
   "id": "092f5045-7a0f-4702-88ab-d3c238f6dc2a",
   "metadata": {},
   "outputs": [
    {
     "name": "stdout",
     "output_type": "stream",
     "text": [
      "Upper Limit for context_length: 650.125\n",
      "Shape before dropping records: (3512, 4)\n",
      "Shape after dropping records: (2797, 4)\n",
      "Upper Limit for response_length: 2371.75\n",
      "Shape before dropping records: (2797, 4)\n",
      "Shape after dropping records: (2638, 4)\n"
     ]
    }
   ],
   "source": [
    "df_copy = df.copy()\n",
    "\n",
    "df_no_outliers = drop_large_txt_records(df_copy)"
   ]
  },
  {
   "cell_type": "code",
   "execution_count": 45,
   "id": "2aee76e3-70bc-4912-8d6e-10106646a8c9",
   "metadata": {},
   "outputs": [
    {
     "name": "stdout",
     "output_type": "stream",
     "text": [
      "Five point summary of context_length\n",
      " count    2638.000000\n",
      "mean      271.602729\n",
      "std       120.175790\n",
      "min       102.000000\n",
      "25%       167.000000\n",
      "50%       254.000000\n",
      "75%       348.000000\n",
      "max       646.000000\n",
      "Name: context_length, dtype: float64\n"
     ]
    },
    {
     "data": {
      "image/png": "[encoded data removed]",
      "text/plain": [
       "<Figure size 640x480 with 1 Axes>"
      ]
     },
     "metadata": {},
     "output_type": "display_data"
    },
    {
     "name": "stdout",
     "output_type": "stream",
     "text": [
      "Five point summary of response_length\n",
      " count    2636.000000\n",
      "mean      918.025417\n",
      "std       496.460766\n",
      "min       101.000000\n",
      "25%       538.000000\n",
      "50%       820.000000\n",
      "75%      1213.250000\n",
      "max      2357.000000\n",
      "Name: response_length, dtype: float64\n"
     ]
    },
    {
     "data": {
      "image/png": "[encoded data removed]",
      "text/plain": [
       "<Figure size 640x480 with 1 Axes>"
      ]
     },
     "metadata": {},
     "output_type": "display_data"
    }
   ],
   "source": [
    "# Check distribution after removing outliers\n",
    "for cols in [\"context_length\", \"response_length\"]:\n",
    "    df_no_outliers[cols].hist(bins=40)\n",
    "    print(f\"Five point summary of {cols}\\n {df_no_outliers[cols].describe()}\")\n",
    "    plt.title(f\"Histogram of {cols}\")\n",
    "    plt.show()"
   ]
  },
  {
   "cell_type": "code",
   "execution_count": null,
   "id": "2564d815-4533-4b2f-a64e-9953064fa6fa",
   "metadata": {},
   "outputs": [],
   "source": []
  },
  {
   "cell_type": "markdown",
   "id": "b4b98474-5382-438f-9e1f-2417f19c68d2",
   "metadata": {},
   "source": [
    "The data looks much better after dopping the large length and small length records."
   ]
  },
  {
   "cell_type": "code",
   "execution_count": 66,
   "id": "118fd3ec-c127-475f-9f76-358724324b1d",
   "metadata": {},
   "outputs": [],
   "source": [
    "# Add unique id for each rows\n",
    "df_no_outliers[\"id\"] = df_no_outliers.index"
   ]
  },
  {
   "cell_type": "code",
   "execution_count": 67,
   "id": "09d8afde-cda9-48d1-9149-45f565a8aefa",
   "metadata": {},
   "outputs": [
    {
     "data": {
      "text/html": [
       "<div>\n",
       "<style scoped>\n",
       "    .dataframe tbody tr th:only-of-type {\n",
       "        vertical-align: middle;\n",
       "    }\n",
       "\n",
       "    .dataframe tbody tr th {\n",
       "        vertical-align: top;\n",
       "    }\n",
       "\n",
       "    .dataframe thead th {\n",
       "        text-align: right;\n",
       "    }\n",
       "</style>\n",
       "<table border=\"1\" class=\"dataframe\">\n",
       "  <thead>\n",
       "    <tr style=\"text-align: right;\">\n",
       "      <th></th>\n",
       "      <th>Context</th>\n",
       "      <th>Response</th>\n",
       "      <th>context_length</th>\n",
       "      <th>response_length</th>\n",
       "      <th>id</th>\n",
       "    </tr>\n",
       "  </thead>\n",
       "  <tbody>\n",
       "    <tr>\n",
       "      <th>0</th>\n",
       "      <td>I'm going through some things with my feelings...</td>\n",
       "      <td>If everyone thinks you're worthless, then mayb...</td>\n",
       "      <td>328</td>\n",
       "      <td>961.0</td>\n",
       "      <td>0</td>\n",
       "    </tr>\n",
       "    <tr>\n",
       "      <th>1</th>\n",
       "      <td>I'm going through some things with my feelings...</td>\n",
       "      <td>Hello, and thank you for your question and see...</td>\n",
       "      <td>328</td>\n",
       "      <td>2082.0</td>\n",
       "      <td>1</td>\n",
       "    </tr>\n",
       "    <tr>\n",
       "      <th>2</th>\n",
       "      <td>I'm going through some things with my feelings...</td>\n",
       "      <td>First thing I'd suggest is getting the sleep y...</td>\n",
       "      <td>328</td>\n",
       "      <td>299.0</td>\n",
       "      <td>2</td>\n",
       "    </tr>\n",
       "    <tr>\n",
       "      <th>3</th>\n",
       "      <td>I'm going through some things with my feelings...</td>\n",
       "      <td>Therapy is essential for those that are feelin...</td>\n",
       "      <td>328</td>\n",
       "      <td>844.0</td>\n",
       "      <td>3</td>\n",
       "    </tr>\n",
       "    <tr>\n",
       "      <th>4</th>\n",
       "      <td>I'm going through some things with my feelings...</td>\n",
       "      <td>I first want to let you know that you are not ...</td>\n",
       "      <td>328</td>\n",
       "      <td>337.0</td>\n",
       "      <td>4</td>\n",
       "    </tr>\n",
       "  </tbody>\n",
       "</table>\n",
       "</div>"
      ],
      "text/plain": [
       "                                             Context  \\\n",
       "0  I'm going through some things with my feelings...   \n",
       "1  I'm going through some things with my feelings...   \n",
       "2  I'm going through some things with my feelings...   \n",
       "3  I'm going through some things with my feelings...   \n",
       "4  I'm going through some things with my feelings...   \n",
       "\n",
       "                                            Response  context_length  \\\n",
       "0  If everyone thinks you're worthless, then mayb...             328   \n",
       "1  Hello, and thank you for your question and see...             328   \n",
       "2  First thing I'd suggest is getting the sleep y...             328   \n",
       "3  Therapy is essential for those that are feelin...             328   \n",
       "4  I first want to let you know that you are not ...             328   \n",
       "\n",
       "   response_length  id  \n",
       "0            961.0   0  \n",
       "1           2082.0   1  \n",
       "2            299.0   2  \n",
       "3            844.0   3  \n",
       "4            337.0   4  "
      ]
     },
     "execution_count": 67,
     "metadata": {},
     "output_type": "execute_result"
    }
   ],
   "source": [
    "df_no_outliers.head()"
   ]
  },
  {
   "cell_type": "code",
   "execution_count": null,
   "id": "281f1b54-175a-48ed-a913-fc3370043cff",
   "metadata": {},
   "outputs": [],
   "source": []
  },
  {
   "cell_type": "markdown",
   "id": "d3a13c00-730c-4714-9d28-275828eef247",
   "metadata": {},
   "source": [
    "#### Standardization"
   ]
  },
  {
   "cell_type": "code",
   "execution_count": 133,
   "id": "d4cb982f-d99b-402b-bec6-14584af584e1",
   "metadata": {},
   "outputs": [],
   "source": [
    "# import modules for text preprocessing\n",
    "from nltk.corpus import stopwords\n",
    "from nltk.tokenize import word_tokenize\n",
    "# from nltk.stem.porter import PorterStemmer\n",
    "from nltk.stem import WordNetLemmatizer\n",
    "import re\n",
    "import string"
   ]
  },
  {
   "cell_type": "code",
   "execution_count": 134,
   "id": "3be56b4b-cc7f-498e-a2db-490cdd8d7cc7",
   "metadata": {},
   "outputs": [],
   "source": [
    "# this function removes stopwords from input text\n",
    "    \n",
    "def custom_standardization_fn(text):\n",
    "    lowercase_string = text.lower()\n",
    "    regex_punc = re.sub(\n",
    "        f\"[0-9{re.escape(string.punctuation)}]\", lambda match: \"\" , lowercase_string)\n",
    "    regex_clean = re.sub(\n",
    "        f\"[\\\\r\\\\t\\\\n]\", lambda match: \" \" , regex_punc)\n",
    "\n",
    "    stop_words = stopwords.words(\"english\")\n",
    "    tokenized_words = word_tokenize(regex_clean)\n",
    "    stop_word_removed_tokens = [word for word in tokenized_words if word not in stop_words]\n",
    "    stopword_removed_string = \" \".join([word for word in tokenized_words if word not in stop_words])\n",
    "    # lemmatize\n",
    "    wnl = WordNetLemmatizer()\n",
    "    return \" \".join([wnl.lemmatize(words) for words in stop_word_removed_tokens])"
   ]
  },
  {
   "cell_type": "code",
   "execution_count": 136,
   "id": "32565a48-eb75-43e6-9230-516cf102d6ae",
   "metadata": {},
   "outputs": [],
   "source": [
    "df_no_outliers[\"Context\"] = df_no_outliers[\"Context\"].apply(custom_standardization_fn)"
   ]
  },
  {
   "cell_type": "markdown",
   "id": "e09b584a-cc6a-4550-9a19-4dffa39fee50",
   "metadata": {},
   "source": [
    "### Clustering questions"
   ]
  },
  {
   "cell_type": "code",
   "execution_count": 49,
   "id": "58973aa1-79d8-4e8a-b382-fdbb3d3ba76f",
   "metadata": {},
   "outputs": [],
   "source": [
    "# !pip install sentence-transformers"
   ]
  },
  {
   "cell_type": "code",
   "execution_count": 51,
   "id": "07c474fe-c29a-4596-9db6-45d0315670be",
   "metadata": {},
   "outputs": [],
   "source": [
    "from sentence_transformers import SentenceTransformer, util\n",
    "import tqdm"
   ]
  },
  {
   "cell_type": "code",
   "execution_count": 53,
   "id": "a3ca59a4-c026-4eb9-b18f-00b2702cf4ff",
   "metadata": {},
   "outputs": [],
   "source": [
    "# Model for computing sentence embeddings. We use one trained for similar questions detection\n",
    "model = SentenceTransformer(\"all-MiniLM-L6-v2\")"
   ]
  },
  {
   "cell_type": "code",
   "execution_count": 142,
   "id": "43923141-de56-4529-af8b-836ca9acb02a",
   "metadata": {},
   "outputs": [],
   "source": [
    "max_corpus_size = 3000"
   ]
  },
  {
   "cell_type": "code",
   "execution_count": 143,
   "id": "2167540e-2eb7-4a35-a8fd-1c03daf190a1",
   "metadata": {},
   "outputs": [],
   "source": [
    "# Get all unique sentences from the file\n",
    "corpus_sentences = set()\n",
    "for row in df_no_outliers.iterrows():\n",
    "    corpus_sentences.add(f'id:{row[1][\"id\"]}text:{row[1][\"Context\"]}')\n",
    "    # corpus_sentences.add(row[\"question2\"])\n",
    "    if len(corpus_sentences) >= max_corpus_size:\n",
    "        break"
   ]
  },
  {
   "cell_type": "code",
   "execution_count": 144,
   "id": "add7c376-1b67-49ba-b9c9-032c81517e84",
   "metadata": {},
   "outputs": [
    {
     "name": "stdout",
     "output_type": "stream",
     "text": [
      "id:3349text:early still live parent cant afford live alone mother say live roof follow rule trying control life\n"
     ]
    }
   ],
   "source": [
    "for sent in corpus_sentences:\n",
    "    print(sent)\n",
    "    break"
   ]
  },
  {
   "cell_type": "code",
   "execution_count": 145,
   "id": "d74319c4-2260-45e4-a28d-b02da2af8515",
   "metadata": {},
   "outputs": [
    {
     "name": "stdout",
     "output_type": "stream",
     "text": [
      "Encode the corpus. This might take a while\n"
     ]
    },
    {
     "name": "stderr",
     "output_type": "stream",
     "text": [
      "Batches: 100%|██████████████████████████████████| 42/42 [00:03<00:00, 10.91it/s]\n"
     ]
    }
   ],
   "source": [
    "corpus_sentences = list(corpus_sentences)\n",
    "print(\"Encode the corpus. This might take a while\")\n",
    "corpus_embeddings = model.encode(corpus_sentences, batch_size=64, show_progress_bar=True, convert_to_tensor=True)"
   ]
  },
  {
   "cell_type": "code",
   "execution_count": 148,
   "id": "b3b36cfc-53d5-47ba-ba31-bb86965c777f",
   "metadata": {},
   "outputs": [
    {
     "name": "stdout",
     "output_type": "stream",
     "text": [
      "Start clustering\n",
      "Clustering done after 6.47 sec\n"
     ]
    }
   ],
   "source": [
    "print(\"Start clustering\")\n",
    "start_time = time.time()\n",
    "\n",
    "# Two parameters to tune:\n",
    "# min_cluster_size: Only consider cluster that have at least 25 elements\n",
    "# threshold: Consider sentence pairs with a cosine-similarity larger than threshold as similar\n",
    "clusters = util.community_detection(corpus_embeddings, min_community_size=3, threshold=0.001)\n",
    "\n",
    "print(f\"Clustering done after {time.time() - start_time:.2f} sec\")"
   ]
  },
  {
   "cell_type": "code",
   "execution_count": 149,
   "id": "e72c842c-e0df-446b-973c-a4c00d07aae7",
   "metadata": {},
   "outputs": [
    {
     "name": "stdout",
     "output_type": "stream",
     "text": [
      "\n",
      "Cluster 1, #2638 Elements \n"
     ]
    }
   ],
   "source": [
    "# Print for all clusters the top 3 and bottom 3 elements\n",
    "for i, cluster in enumerate(clusters):\n",
    "    print(f\"\\nCluster {i + 1}, #{len(cluster)} Elements \")\n",
    "    # for sentence_id in cluster[0:3]:\n",
    "    #     print(\"\\t\", corpus_sentences[sentence_id])\n",
    "    # print(\"\\t\", \"...\")\n",
    "    # for sentence_id in cluster[-3:]:\n",
    "    #     print(\"\\t\", corpus_sentences[sentence_id])"
   ]
  },
  {
   "cell_type": "markdown",
   "id": "0fd7155b-6e28-4fcc-a7a1-03c5eddb904b",
   "metadata": {},
   "source": [
    "### K means"
   ]
  },
  {
   "cell_type": "code",
   "execution_count": 93,
   "id": "0453318d-0e06-4eb4-bdbe-48be8febed04",
   "metadata": {},
   "outputs": [],
   "source": [
    "from sklearn.cluster import KMeans"
   ]
  },
  {
   "cell_type": "code",
   "execution_count": 90,
   "id": "804833c8-33eb-497f-a7d2-50dd1a95f53a",
   "metadata": {},
   "outputs": [],
   "source": [
    "embedder = SentenceTransformer(\"all-MiniLM-L6-v2\")"
   ]
  },
  {
   "cell_type": "code",
   "execution_count": 153,
   "id": "b85c43cd-1747-4e99-826e-ca9692361dbd",
   "metadata": {},
   "outputs": [],
   "source": [
    "corpus = df_no_outliers[\"Context\"].to_list()\n",
    "corpus_embeddings_kmeans = embedder.encode(corpus)"
   ]
  },
  {
   "cell_type": "code",
   "execution_count": 156,
   "id": "60cae30b-a6cd-4a56-a780-ecd8fd272ab5",
   "metadata": {},
   "outputs": [],
   "source": [
    "# Perform kmean clustering\n",
    "num_clusters = 30\n",
    "inertia = []\n",
    "for k in range(1, num_clusters):\n",
    "    clustering_model_kmean = KMeans(n_clusters=k)\n",
    "    clustering_model_kmean.fit(corpus_embeddings_kmeans)\n",
    "    # cluster_assignment = clustering_model.labels_\n",
    "    inertia.append(clustering_model_kmean.inertia_)"
   ]
  },
  {
   "cell_type": "code",
   "execution_count": 157,
   "id": "e8f7123f-6afc-4b5e-864a-09db5c10d843",
   "metadata": {},
   "outputs": [
    {
     "data": {
      "image/png": "[encoded data removed]",
      "text/plain": [
       "<Figure size 640x480 with 1 Axes>"
      ]
     },
     "metadata": {},
     "output_type": "display_data"
    }
   ],
   "source": [
    "plt.plot(range(1, num_clusters), inertia, marker='o')\n",
    "plt.show()"
   ]
  },
  {
   "cell_type": "code",
   "execution_count": 164,
   "id": "599da398-9b28-4875-8660-cbba76992624",
   "metadata": {},
   "outputs": [],
   "source": [
    "# Perform kmean clustering\n",
    "num_clusters = 10\n",
    "clustering_model_kmean = KMeans(n_clusters=num_clusters)\n",
    "clustering_model_kmean.fit(corpus_embeddings_kmeans)\n",
    "cluster_assignment_kmeans = clustering_model_kmean.labels_"
   ]
  },
  {
   "cell_type": "code",
   "execution_count": 165,
   "id": "389a4dd5-e120-4857-bd14-dc17becffc56",
   "metadata": {},
   "outputs": [],
   "source": [
    "clustered_sentences = [[] for i in range(num_clusters)]\n",
    "for sentence_id, cluster_id in enumerate(cluster_assignment_kmeans):\n",
    "    clustered_sentences[cluster_id].append(corpus[sentence_id])"
   ]
  },
  {
   "cell_type": "code",
   "execution_count": 170,
   "id": "41ae6ba2-7c20-4e24-a2f9-e4c75ae27986",
   "metadata": {},
   "outputs": [
    {
     "name": "stdout",
     "output_type": "stream",
     "text": [
      "Cluster  1\n",
      "498\n",
      "selfharm stop awhile see something sad depressing automatically want selfharm\n",
      "Cluster  2\n",
      "429\n",
      "im going thing feeling barely sleep nothing think im worthless shouldnt ive never tried contemplated suicide ive always wanted fix issue never get around change feeling worthless everyone\n",
      "Cluster  3\n",
      "267\n",
      "tried telling husband depressed ignored said youre always sad depressed picked phone ignored said please dont exaggerate isnt true said whatever babe want sad get take seriously\n",
      "Cluster  4\n",
      "405\n",
      "im teenager dad jail last five year tough mom really try give normal life two sister brother feel like took upon parent role im second youngest im stable mother sister say im overdramatic ’ hurt keep breaking\n",
      "Cluster  5\n",
      "268\n",
      "year ago making love wife known reason lost erection im early problem become frequent causing major problem ego diminishing self esteem resulted ongoing depression tearing apart marriage devastated find cause issue attracted wife want express bedroom like used could causing\n",
      "Cluster  6\n",
      "244\n",
      "feeling month started trouble sleeping due panic attack almost never triggered something know\n",
      "Cluster  7\n",
      "101\n",
      "many issue address history sexual abuse ’ breast cancer survivor lifetime insomniac long history depression ’ beginning anxiety low self esteem ’ happily married almost year ’ never counseling many issue address counseling\n",
      "Cluster  8\n",
      "50\n",
      "therapist gay sexual issue however therapist six year made believe care friend loaned money many time always paid back medical emergency last weekend heavily medicated knew therapist came home wrote credit card information could pay back owed therapist dropped never came dont know\n",
      "Cluster  9\n",
      "68\n",
      "ive gone couple therapy session far still everytime walk get nervous shaky normal still feeling like\n",
      "Cluster  10\n",
      "308\n",
      "said would try never nine month making worse today said respect whatever decision make true supposed respect decision leave cant handle im going leaf cry worried every night he constantly changing mind want work\n"
     ]
    }
   ],
   "source": [
    "for i, cluster in enumerate(clustered_sentences):\n",
    "    print(\"Cluster \", i + 1)\n",
    "    print(len(cluster))\n",
    "    print(cluster[0])\n"
   ]
  },
  {
   "cell_type": "code",
   "execution_count": 161,
   "id": "2ef70a62-cff4-41fe-9a39-b7a3b3b847d8",
   "metadata": {},
   "outputs": [
    {
     "data": {
      "text/plain": [
       "array([16, 16, 16, ...,  2, 22,  1], shape=(2638,), dtype=int32)"
      ]
     },
     "execution_count": 161,
     "metadata": {},
     "output_type": "execute_result"
    }
   ],
   "source": [
    "cluster_assignment_kmeans"
   ]
  },
  {
   "cell_type": "code",
   "execution_count": null,
   "id": "7c0ad0b6-7bcf-4fa0-b205-a016f9181fef",
   "metadata": {},
   "outputs": [],
   "source": []
  },
  {
   "cell_type": "code",
   "execution_count": 7,
   "id": "37fc734e-6d5a-49b8-a836-6f64eb6cf724",
   "metadata": {},
   "outputs": [],
   "source": [
    "df = df.sample(n=500, random_state=42)"
   ]
  },
  {
   "cell_type": "code",
   "execution_count": 8,
   "id": "4acdb574-9baf-4e91-bcbb-d419c57eb0b9",
   "metadata": {},
   "outputs": [],
   "source": [
    "val_df = df.sample(frac=0.1, random_state=42)"
   ]
  },
  {
   "cell_type": "code",
   "execution_count": 9,
   "id": "077e9a3a-2a74-4a75-8cd2-0a1531dc7067",
   "metadata": {},
   "outputs": [],
   "source": [
    "train_df = df.drop(val_df.index)"
   ]
  },
  {
   "cell_type": "code",
   "execution_count": 10,
   "id": "e2844654-813f-4c15-a313-9d230732f515",
   "metadata": {},
   "outputs": [
    {
     "data": {
      "text/plain": [
       "((450, 2), (50, 2))"
      ]
     },
     "execution_count": 10,
     "metadata": {},
     "output_type": "execute_result"
    }
   ],
   "source": [
    "train_df.shape, val_df.shape"
   ]
  },
  {
   "cell_type": "code",
   "execution_count": 11,
   "id": "637c1f4c-869b-4644-a397-7a6c060d8229",
   "metadata": {},
   "outputs": [],
   "source": [
    "training_data_file = \"./datasets/training_file.jsonl\"\n",
    "validation_data_file = \"./datasets/validation_file.jsonl\""
   ]
  },
  {
   "cell_type": "code",
   "execution_count": 12,
   "id": "34a9e324-71dd-4e29-a1fb-bbb7986d82c5",
   "metadata": {},
   "outputs": [
    {
     "name": "stdout",
     "output_type": "stream",
     "text": [
      "Token encoding for gpt-4o-mini is : o200k_base\n"
     ]
    }
   ],
   "source": [
    "# get the encoding for gpt-4o-mini-2024-07-18\n",
    "encoding = tiktoken.encoding_for_model(\"gpt-4o-mini-2024-07-18\")\n",
    "print(f\"Token encoding for gpt-4o-mini is : {encoding.name}\")"
   ]
  },
  {
   "cell_type": "markdown",
   "id": "516c9f42-2401-4d5b-9623-bfcd7a9b85df",
   "metadata": {},
   "source": [
    "##### Token validation"
   ]
  },
  {
   "cell_type": "markdown",
   "id": "2c15205e-e7e0-4640-82f1-f98b23cb2539",
   "metadata": {},
   "source": [
    "`gpt-4o-mini-2024-07-18` will be used as foundational model for fine-tuning, so to get the correct token counts, the encoding corresponding to this model must be used."
   ]
  },
  {
   "cell_type": "code",
   "execution_count": 21,
   "id": "42d266ad-453d-4f12-be90-73be43fd3bd4",
   "metadata": {},
   "outputs": [],
   "source": [
    "def create_jsonl_file(file_path,df):\n",
    "    system_message = \"You are an assistant that helps answer mental health question.\"\n",
    "    system_message_tokens = len(encoding.encode(system_message))\n",
    "    with jsonlines.open(file_path,mode=\"w\") as writer:\n",
    "        for row in df.iterrows():\n",
    "            context_tokens = len(encoding.encode(row[1][\"Context\"]))\n",
    "            assistant_tokens = len(encoding.encode(row[1][\"Response\"]))\n",
    "            if (system_message_tokens+context_tokens+assistant_tokens) < 500:\n",
    "                message_dict = {\n",
    "                    \"messages\":[\n",
    "                        {\"role\":\"system\",\"content\":system_message},\n",
    "                        {\"role\":\"user\",\"content\":row[1][\"Context\"]},\n",
    "                        {\"role\": \"assistant\", \"content\":row[1][\"Response\"]}\n",
    "                    ]\n",
    "                }\n",
    "                writer.write((message_dict))"
   ]
  },
  {
   "cell_type": "code",
   "execution_count": 22,
   "id": "ac4ec92d-b710-4974-8b84-e022e78ad824",
   "metadata": {},
   "outputs": [],
   "source": [
    "create_jsonl_file(training_data_file, train_df)\n",
    "create_jsonl_file(validation_data_file, val_df)"
   ]
  },
  {
   "cell_type": "code",
   "execution_count": 23,
   "id": "ddd5dee0-7959-4fd9-a85b-f768ab69150e",
   "metadata": {},
   "outputs": [],
   "source": [
    "MAX_TOKENS = 65536\n",
    "\n",
    "TARGET_EPOCHS = 3\n",
    "MIN_TARGET_EXAMPLES = 100\n",
    "MAX_TARGET_EXAMPLES = 1000\n",
    "MIN_DEFAULT_EPOCHS = 1\n",
    "MAX_DEFAULT_EPOCHS = 5"
   ]
  },
  {
   "cell_type": "markdown",
   "id": "862245db-74e6-43d5-aa7c-1d28fa9ae8b0",
   "metadata": {},
   "source": [
    "##### Basic data check"
   ]
  },
  {
   "cell_type": "code",
   "execution_count": 24,
   "id": "78ed5716-7dbf-4fe8-ac80-6e308e9810e4",
   "metadata": {},
   "outputs": [],
   "source": [
    "def basic_checks(data_file):\n",
    "    try:\n",
    "        with open(data_file, \"r\", encoding=\"utf-8\") as f:\n",
    "            dataset = [json.loads(line) for line in f]\n",
    "\n",
    "        print(f\"Basic checks for file {data_file}:\")\n",
    "        print(\"Count of examples in dataset:\", len(dataset))\n",
    "        print(\"First example:\")\n",
    "        for message in dataset[0][\"messages\"]:\n",
    "            print(message)\n",
    "        return True\n",
    "    except FileNotFoundError as e:\n",
    "        print(f\"File not found error occurred in file {data_file}: {e}\")\n",
    "        return False\n",
    "    except json.JSONDecodeError as e:\n",
    "        print(f\"JSON decoding error occurred in file {data_file}: {e}\")\n",
    "        return False\n",
    "    except Exception as e:\n",
    "        print(f\"An error occurred in file {data_file}: {e}\")\n",
    "        return False"
   ]
  },
  {
   "cell_type": "code",
   "execution_count": null,
   "id": "c1ecbbe1-bf5d-4ad8-8631-72a397bb99df",
   "metadata": {},
   "outputs": [],
   "source": []
  },
  {
   "cell_type": "code",
   "execution_count": 25,
   "id": "e8d9efbb-f69c-456e-9726-14f81c3967e6",
   "metadata": {},
   "outputs": [
    {
     "name": "stdout",
     "output_type": "stream",
     "text": [
      "Basic checks for file ./datasets/training_file.jsonl:\n",
      "Count of examples in dataset: 404\n",
      "First example:\n",
      "{'role': 'system', 'content': 'You are an assistant that helps answer mental health question.'}\n",
      "{'role': 'user', 'content': 'I have no real friends. I have a girlfriend who irritates me but loves me to death. I push her away and pushes me away. We’re going through a breakup, and I have nobody.'}\n",
      "{'role': 'assistant', 'content': 'Having time all to yourself may be necessary so you have time to reflect on your own identity and values, become more clear on what matters most to you, and with this increased self-understanding, be able to attract people who will feel like satisfying friends.Having a relationship with someone whom you push away and are pushed away, with someone who is irritating, seems to have limited benefit for each of you.Maybe you are together from fear of being alone, and being alone is exactly what you may now need in your life in order to draw more favorable people to you.'}\n",
      "Basic checks for file ./datasets/validation_file.jsonl:\n",
      "Count of examples in dataset: 44\n",
      "First example:\n",
      "{'role': 'system', 'content': 'You are an assistant that helps answer mental health question.'}\n",
      "{'role': 'user', 'content': \"I have no self control over food. Most people stop when they've had enough, but I keep eating for the pleasure of it. Especially with sweets - I'm never done eating dessert.\"}\n",
      "{'role': 'assistant', 'content': 'I would recommend removing yourself from the environment you are in after you have finished eating. A simple walk around the block, calling up a friend and going to visit, or even going to another room in the house can help. If you find that you truly have no self control over food, I recommend attending Overeaters Anonymous; a 12 step group for those with compulsive issues related to food. I hope this helps.'}\n"
     ]
    }
   ],
   "source": [
    "if not basic_checks(training_data_file):\n",
    "    print(f\"Error in Trainingfile {training_data_file}\")\n",
    "if not basic_checks(validation_data_file):\n",
    "    print(f\"Error in Validation file {validation_data_file}\")"
   ]
  },
  {
   "cell_type": "markdown",
   "id": "038e260b-acb2-471a-8f81-45bdbebd8145",
   "metadata": {},
   "source": [
    "The training and validation files have passed the check for `jsonl` format "
   ]
  },
  {
   "cell_type": "markdown",
   "id": "824641f8-81ff-42ce-ad24-c1d61b72f653",
   "metadata": {},
   "source": []
  },
  {
   "cell_type": "code",
   "execution_count": 26,
   "id": "432e2de3-3d2e-43eb-81ef-8741f9d6b4eb",
   "metadata": {},
   "outputs": [],
   "source": [
    "def format_checks(dataset, filename):\n",
    "    # Initialize a dictionary, used to track format errors\n",
    "    format_errors = defaultdict(int)\n",
    "\n",
    "    # Iterate over each example in the dataset\n",
    "    for ex in dataset:\n",
    "        # Check if the example is a dictionary, if not \n",
    "        # increment the corresponding error count\n",
    "        if not isinstance(ex, dict):\n",
    "            format_errors[\"data_type\"] += 1\n",
    "            continue\n",
    "\n",
    "        # Check if the example has a \"messages\" key, \n",
    "        # if not increment the corresponding error count\n",
    "        messages = ex.get(\"messages\", None)\n",
    "        if not messages:\n",
    "            format_errors[\"missing_messages_list\"] += 1\n",
    "            continue\n",
    "\n",
    "        # Iterate over each message in the messages list\n",
    "        for message in messages:\n",
    "            # Check if the message has \"role\" and \"content\" keys,\n",
    "            # if not increment the corresponding error count\n",
    "            if \"role\" not in message or \"content\" not in message:\n",
    "                format_errors[\"message_missing_key\"] += 1\n",
    "\n",
    "            # Check if the message has any unrecognized keys,\n",
    "            # if so increment the corresponding error count\n",
    "            if any(k not in (\"role\", \"content\", \"name\", \"function_call\") for k in message):\n",
    "                format_errors[\"message_unrecognized_key\"] += 1\n",
    "\n",
    "            # Check if the role of the message is one of the recognized\n",
    "            # roles, if not increment the corresponding error count\n",
    "            if message.get(\"role\", None) not in (\n",
    "                \"system\",\n",
    "                \"user\",\n",
    "                \"assistant\",\n",
    "                \"function\",\n",
    "            ):\n",
    "                format_errors[\"unrecognized_role\"] += 1\n",
    "\n",
    "            # Check if the message has either content or a function call,\n",
    "            # and if the content is a string, if not increment the\n",
    "            # corresponding error count\n",
    "            content = message.get(\"content\", None)\n",
    "            function_call = message.get(\"function_call\", None)\n",
    "            if (not content and not function_call) or not isinstance(content, str):\n",
    "                format_errors[\"missing_content\"] += 1\n",
    "\n",
    "        # Check if there is at least one message with the role \"assistant\",\n",
    "        # if not increment the corresponding error count\n",
    "        if not any(message.get(\"role\", None) == \"assistant\" for message in messages):\n",
    "            format_errors[\"example_missing_assistant_message\"] += 1\n",
    "\n",
    "    # If there are any format errors, print them and return False\n",
    "    if format_errors:\n",
    "        print(f\"Formatting errors found in file {filename}:\")\n",
    "        for k, v in format_errors.items():\n",
    "            print(f\"{k}: {v}\")\n",
    "        return False\n",
    "    print(f\"No formatting errors found in file {filename}\")\n",
    "    return True"
   ]
  },
  {
   "cell_type": "code",
   "execution_count": 27,
   "id": "2595b757-36a2-47ea-a557-1013cc03cfc1",
   "metadata": {},
   "outputs": [
    {
     "name": "stdout",
     "output_type": "stream",
     "text": [
      "No formatting errors found in file ./datasets/training_file.jsonl\n"
     ]
    }
   ],
   "source": [
    "# check example format are correct for training file\n",
    "with open(training_data_file, \"r\", encoding=\"utf-8\") as f:\n",
    "    train_dataset = [json.loads(line) for line in f]\n",
    "    if not format_checks(train_dataset, training_data_file):\n",
    "        print(f\"Error in training examples format validation for {training_data_file}\")"
   ]
  },
  {
   "cell_type": "code",
   "execution_count": 28,
   "id": "99acf0c4-8957-46ed-9f30-95db1d41fb71",
   "metadata": {},
   "outputs": [
    {
     "name": "stdout",
     "output_type": "stream",
     "text": [
      "No formatting errors found in file ./datasets/validation_file.jsonl\n"
     ]
    }
   ],
   "source": [
    "# check example format are correct for validation file\n",
    "with open(validation_data_file, \"r\", encoding=\"utf-8\") as f:\n",
    "    valid_dataset = [json.loads(line) for line in f]\n",
    "    if not format_checks(valid_dataset, validation_data_file):\n",
    "        print(f\"Error in training examples format validation for {validation_data_file}\")"
   ]
  },
  {
   "cell_type": "markdown",
   "id": "df5973d6-114d-44fc-a107-84c3cebdfcb0",
   "metadata": {},
   "source": [
    "Fine tuning is billed by the `number of tokens` used in the training examples. Hence, it is always advisable to estimate the numbers tokens in the training examples and how many total tokens will be used in the fine-tuning. This will provide a rough estimate about the cost of the fine-tuning to avoid any surprises."
   ]
  },
  {
   "cell_type": "code",
   "execution_count": 29,
   "id": "d26561fb-e084-43c4-9caf-02b28640257a",
   "metadata": {},
   "outputs": [],
   "source": [
    "# Print the number of tokens in the messages\n",
    "def num_tokens_from_messages(messages, tokens_per_message=3, tokens_per_name=1):\n",
    "    num_tokens = 0\n",
    "    for message in messages:\n",
    "        num_tokens += tokens_per_message\n",
    "        for key, value in message.items():\n",
    "            num_tokens += len(encoding.encode(value))\n",
    "            if key == \"name\":\n",
    "                num_tokens += tokens_per_name\n",
    "    num_tokens += 3\n",
    "    return num_tokens\n",
    "\n",
    "# print the number of tokens in the assistant messages\n",
    "def num_assistant_tokens_from_messages(messages):\n",
    "    num_tokens = 0\n",
    "    for message in messages:\n",
    "        if message[\"role\"] == \"assistant\":\n",
    "            num_tokens += len(encoding.encode(message[\"content\"]))\n",
    "    return num_tokens\n"
   ]
  },
  {
   "cell_type": "code",
   "execution_count": 30,
   "id": "8c6d1b24-0a30-4ac2-94a2-63d4489fe0fa",
   "metadata": {},
   "outputs": [],
   "source": [
    "# Estimate the number of tokens that will be charged for during training\n",
    "def estimate_tokens(dataset, assistant_tokens):\n",
    "    # Set the initial number of epochs to the target epochs\n",
    "    n_epochs = TARGET_EPOCHS\n",
    "    \n",
    "    # Get the number of examples in the dataset\n",
    "    n_train_examples = len(dataset)\n",
    "\n",
    "    # If the examples total is less than the minimum target\n",
    "    # adjust the epochs to ensure we have enough examples for\n",
    "    # training\n",
    "    if n_train_examples * TARGET_EPOCHS < MIN_TARGET_EXAMPLES:\n",
    "        n_epochs = min(MAX_DEFAULT_EPOCHS, MIN_TARGET_EXAMPLES // n_train_examples)\n",
    "    \n",
    "    # If the  number of examples is more than the maximum target\n",
    "    # adjust the  epochs to ensure we don't exceed the maximum \n",
    "    # for training\n",
    "    elif n_train_examples * TARGET_EPOCHS > MAX_TARGET_EXAMPLES:\n",
    "        n_epochs = max(MIN_DEFAULT_EPOCHS, MAX_TARGET_EXAMPLES // n_train_examples)\n",
    "\n",
    "    # Calculate the total number of tokens in the dataset\n",
    "    # n_billing_tokens_in_dataset = sum(min(MAX_TOKENS, length) for length in assistant_tokens)\n",
    "    n_billing_tokens_in_dataset = sum(min(MAX_TOKENS, length) for length in assistant_tokens)\n",
    "\n",
    "    # Print the total token count that will be charged during training\n",
    "    print(f\"Dataset has ~{n_billing_tokens_in_dataset} tokens that will be charged for during training\")\n",
    "\n",
    "    # Print the default number of epochs for training\n",
    "    print(f\"You will train for {n_epochs} epochs on this dataset\")\n",
    "\n",
    "    # Print the total number of tokens that will be charged during training\n",
    "    print(f\"You will be charged for ~{n_epochs * n_billing_tokens_in_dataset} tokens\")\n",
    "\n",
    "    # If the total token count exceeds the maximum tokens, print a warning \n",
    "    # if n_billing_tokens_in_dataset > MAX_TOKENS:\n",
    "    #     print(f\"WARNING: Your dataset contains examples longer than 4K tokens by {n_billing_tokens_in_dataset - MAX_TOKENS} tokens.\")\n",
    "    #     print(\"You will be charged for the full length of these examples during training, but only the first 4K tokens will be used for training.\")\n",
    "    return n_billing_tokens_in_dataset"
   ]
  },
  {
   "cell_type": "code",
   "execution_count": 31,
   "id": "87a620c3-37f0-4626-aaf4-66e0a9b19e4a",
   "metadata": {},
   "outputs": [],
   "source": [
    "with open(training_data_file, \"r\", encoding=\"utf-8\") as f:\n",
    "    train_dataset = [json.loads(line) for line in f]\n",
    "with open(validation_data_file, \"r\", encoding=\"utf-8\") as f:\n",
    "    valid_dataset = [json.loads(line) for line in f]"
   ]
  },
  {
   "cell_type": "code",
   "execution_count": 32,
   "id": "3e767e92-e90d-49a8-9aa2-c1bca7f90adc",
   "metadata": {},
   "outputs": [],
   "source": [
    "total_tokens = []\n",
    "assistant_tokens = []\n",
    "for example in train_dataset:\n",
    "    messages = example.get(\"messages\", {})\n",
    "    total_tokens.append(num_tokens_from_messages(messages))\n",
    "    assistant_tokens.append(num_assistant_tokens_from_messages(messages))"
   ]
  },
  {
   "cell_type": "code",
   "execution_count": 33,
   "id": "40bfe173-93ee-49df-9529-5a6740c245fe",
   "metadata": {},
   "outputs": [
    {
     "name": "stdout",
     "output_type": "stream",
     "text": [
      "Dataset has ~99671 tokens that will be charged for during training\n",
      "You will train for 2 epochs on this dataset\n",
      "You will be charged for ~199342 tokens\n"
     ]
    }
   ],
   "source": [
    "tokens_used_in_traiing = estimate_tokens(train_dataset, total_tokens)"
   ]
  },
  {
   "cell_type": "code",
   "execution_count": 34,
   "id": "4e957153-7710-4103-aa39-7f9a189c067d",
   "metadata": {},
   "outputs": [
    {
     "name": "stdout",
     "output_type": "stream",
     "text": [
      "Estimated Cost: $ 0.8970390000000001\n"
     ]
    }
   ],
   "source": [
    "print(f\"Estimated Cost: $ {(3/1000000)*tokens_used_in_traiing*TARGET_EPOCHS}\")"
   ]
  },
  {
   "cell_type": "markdown",
   "id": "329030b1-d793-4a3c-92de-c711324ce75a",
   "metadata": {},
   "source": [
    "OpenAI doesnot charge for validation tokens, so only training tokens are charged. Current pricing is \\$3 per 1M tokens. For the above training dataset the estimated cost is `$0.18`"
   ]
  },
  {
   "cell_type": "markdown",
   "id": "10bee75c-c35a-48f6-aeff-57a033446aee",
   "metadata": {},
   "source": [
    "2. Upload training file to Open AI\n",
    "\n",
    "Open AI requires the training and validation file to be uploaded in OpenAI file storage for training."
   ]
  },
  {
   "cell_type": "code",
   "execution_count": 117,
   "id": "4e765170-5f9c-4ea6-9765-49f9a07f35c1",
   "metadata": {},
   "outputs": [],
   "source": [
    "# get api key from file\n",
    "with open(\"../../apikeys/openai-keys.json\", \"r\") as key_file:\n",
    "    api_key = json.load(key_file)[\"default_api_key\"]\n",
    "os.environ[\"OPENAI_API_KEY\"] = api_key"
   ]
  },
  {
   "cell_type": "code",
   "execution_count": 118,
   "id": "1d6f9896-9c71-42a2-9be8-db9c915c5dc2",
   "metadata": {},
   "outputs": [],
   "source": [
    "# Upload training file\n",
    "from openai import OpenAI\n",
    "client = OpenAI()\n",
    "\n",
    "response = client.files.create(\n",
    "  file=open(training_data_file, \"rb\"),\n",
    "  purpose=\"fine-tune\"\n",
    ")"
   ]
  },
  {
   "cell_type": "code",
   "execution_count": 121,
   "id": "17f71997-f71d-4a4c-9439-39a45e1670d0",
   "metadata": {},
   "outputs": [
    {
     "name": "stdout",
     "output_type": "stream",
     "text": [
      "Uploaded file details\n",
      " FileObject(id='file-LXx1cigU9wSjnU7urUBiUb', bytes=119751, created_at=1737307365, filename='emoji_ft_train.jsonl', object='file', purpose='fine-tune', status='processed', status_details=None)\n"
     ]
    }
   ],
   "source": [
    "print(\"Uploaded file details\\n\",response)"
   ]
  },
  {
   "cell_type": "code",
   "execution_count": 122,
   "id": "aa0e8769-dc3f-4ee6-a26f-0c3439977bc8",
   "metadata": {},
   "outputs": [
    {
     "name": "stdout",
     "output_type": "stream",
     "text": [
      "Uploaded file details\n",
      " FileObject(id='file-KE6JVSUfZSWx8ShsRu1sca', bytes=2053, created_at=1737308416, filename='emoji_ft_validation.jsonl', object='file', purpose='fine-tune', status='processed', status_details=None)\n"
     ]
    }
   ],
   "source": [
    "# upload validation file\n",
    "validation_file_response = client.files.create(\n",
    "  file=open(validation_data_file, \"rb\"),\n",
    "  purpose=\"fine-tune\"\n",
    ")\n",
    "print(\"Uploaded file details\\n\",validation_file_response)"
   ]
  },
  {
   "cell_type": "markdown",
   "id": "df56717e-f99d-4958-800b-edbef48e08cd",
   "metadata": {},
   "source": [
    "3. Create and start Fine tuning job"
   ]
  },
  {
   "cell_type": "code",
   "execution_count": 123,
   "id": "ac5c9e12-e219-4eef-a346-ea4134d551c3",
   "metadata": {},
   "outputs": [
    {
     "name": "stdout",
     "output_type": "stream",
     "text": [
      "Finetuning job details:\n",
      " FineTuningJob(id='ftjob-c2mZjQSpX7Kd2rrhwnxNOKw2', created_at=1737308522, error=Error(code=None, message=None, param=None), fine_tuned_model=None, finished_at=None, hyperparameters=Hyperparameters(batch_size='auto', learning_rate_multiplier='auto', n_epochs=3), model='gpt-4o-mini-2024-07-18', object='fine_tuning.job', organization_id='org-i0HGnyzXyYOGEdOd7p2dDDri', result_files=[], seed=918569459, status='validating_files', trained_tokens=None, training_file='file-LXx1cigU9wSjnU7urUBiUb', validation_file='file-KE6JVSUfZSWx8ShsRu1sca', estimated_finish=None, integrations=[], method=Method(dpo=None, supervised=MethodSupervised(hyperparameters=MethodSupervisedHyperparameters(batch_size='auto', learning_rate_multiplier='auto', n_epochs=3)), type='supervised'), user_provided_suffix='emoji-20240122')\n"
     ]
    }
   ],
   "source": [
    "ft_job = client.fine_tuning.jobs.create(\n",
    "    training_file=\"file-LXx1cigU9wSjnU7urUBiUb\",\n",
    "    validation_file=\"file-KE6JVSUfZSWx8ShsRu1sca\",\n",
    "    model=\"gpt-4o-mini-2024-07-18\",\n",
    "    suffix=\"emoji-20240122\",\n",
    "    hyperparameters={\n",
    "        \"n_epochs\":3\n",
    "    },\n",
    ")\n",
    "\n",
    "print(\"Finetuning job details:\\n\", ft_job)"
   ]
  },
  {
   "cell_type": "code",
   "execution_count": 124,
   "id": "208ca9da-f9ff-439b-ae50-2bf9379e339d",
   "metadata": {},
   "outputs": [],
   "source": [
    "# List 10 fine-tuning jobs\n",
    "# ft_job_list = client.fine_tuning.jobs.list()"
   ]
  },
  {
   "cell_type": "code",
   "execution_count": 129,
   "id": "94ba005a-227d-425d-b497-a0283e04b7d2",
   "metadata": {},
   "outputs": [
    {
     "name": "stdout",
     "output_type": "stream",
     "text": [
      "ftjob-c2mZjQSpX7Kd2rrhwnxNOKw2 running\n",
      "ftjob-c2mZjQSpX7Kd2rrhwnxNOKw2 running\n",
      "ftjob-c2mZjQSpX7Kd2rrhwnxNOKw2 running\n",
      "ftjob-c2mZjQSpX7Kd2rrhwnxNOKw2 running\n",
      "ftjob-c2mZjQSpX7Kd2rrhwnxNOKw2 succeeded\n",
      "Job Status: succeeded\n",
      "Elapsed time: 97 minutes 1 seconds\n"
     ]
    }
   ],
   "source": [
    "# Retrieve the state of a fine-tune\n",
    "start_time = time.time()\n",
    "while True:\n",
    "    job = client.fine_tuning.jobs.retrieve(\"ftjob-c2mZjQSpX7Kd2rrhwnxNOKw2\")\n",
    "    print(job.id, job.status)\n",
    "    if job.status in [\"succeeded\",\"failed\",\"cancelled\"]:\n",
    "        print(f\"Job Status: {job.status}\")\n",
    "        print(\"Elapsed time: {} minutes {} seconds\".format(int((time.time() - start_time) // 60), int((time.time() - start_time) % 60)))\n",
    "        break\n",
    "    time.sleep(60)"
   ]
  },
  {
   "cell_type": "markdown",
   "id": "70221a49-498f-4653-98d4-c0acb819564c",
   "metadata": {},
   "source": [
    "Open AI fine tuning job stores the fine-tuning metrics in a result file. The file-id of the resut file can be reference by retriveing the job details in `result_files` attribute."
   ]
  },
  {
   "cell_type": "code",
   "execution_count": 131,
   "id": "64cde27a-70f9-4a6f-b187-1c26f52e3f2c",
   "metadata": {},
   "outputs": [
    {
     "name": "stdout",
     "output_type": "stream",
     "text": [
      "Model id: ft:gpt-4o-mini-2024-07-18:personal:emoji-20240122:ArUCgSFs\n",
      "Result file id: ['file-R7nTQzxG7tD3sR9hQuVwmL']\n"
     ]
    }
   ],
   "source": [
    "#retrive the result file id and model name of the model\n",
    "result = client.fine_tuning.jobs.retrieve(\"ftjob-c2mZjQSpX7Kd2rrhwnxNOKw2\")\n",
    "print(f\"Model id: {result.fine_tuned_model}\\nResult file id: {result.result_files}\")"
   ]
  },
  {
   "cell_type": "code",
   "execution_count": 132,
   "id": "4d73649c-f415-4913-b1d2-b82f98203901",
   "metadata": {},
   "outputs": [],
   "source": [
    "# Retrive file content from the fine tuning job results\n",
    "from openai import OpenAI\n",
    "client = OpenAI()\n",
    "\n",
    "ft_results = client.files.content(result.result_files[0])"
   ]
  },
  {
   "cell_type": "markdown",
   "id": "6a4590e6-ae47-4c43-be08-e6d0882d00b4",
   "metadata": {},
   "source": [
    "The results are `base-64` encoded, so it needs to be decoded for use and can be downloaded as csv."
   ]
  },
  {
   "cell_type": "code",
   "execution_count": 146,
   "id": "08acc8dc-52d3-4d42-b159-36b89f5462cc",
   "metadata": {},
   "outputs": [],
   "source": [
    "import base64\n",
    "\n",
    "string_bytes = base64.b64decode(ft_results.content)\n",
    "result_string = string_bytes.decode(\"ascii\")\n",
    "\n",
    "with open(\"./results.csv\",\"w\") as outfile:\n",
    "    outfile.write(result_string)\n",
    "    \n"
   ]
  },
  {
   "cell_type": "markdown",
   "id": "6d73f0dc-fa44-4fe6-94b7-e18861bb9eb3",
   "metadata": {},
   "source": [
    "Using pandas to read the reslts csv file and plotting the training and validation loss curves"
   ]
  },
  {
   "cell_type": "code",
   "execution_count": 147,
   "id": "e0daed1c-f014-495a-b7c2-80d2b52c470d",
   "metadata": {},
   "outputs": [],
   "source": [
    "import pandas as pd"
   ]
  },
  {
   "cell_type": "code",
   "execution_count": 161,
   "id": "6e7a2308-4515-4aad-a7cc-1b0fb2530cee",
   "metadata": {},
   "outputs": [],
   "source": [
    "df = pd.read_csv(\"./results.csv\")"
   ]
  },
  {
   "cell_type": "code",
   "execution_count": 164,
   "id": "70b84cd4-bfc3-4b37-91f8-02a5972ce4e5",
   "metadata": {},
   "outputs": [
    {
     "data": {
      "image/png": "[encoded data removed]",
      "text/plain": [
       "<Figure size 640x480 with 1 Axes>"
      ]
     },
     "metadata": {},
     "output_type": "display_data"
    }
   ],
   "source": [
    "# plot the training accuracy\n",
    "plt.plot(df[\"step\"], df[\"train_accuracy\"], 'b-', label='Training acc')\n",
    "plt.title('Training accuracy of Fine-Tuning')\n",
    "plt.xlabel('Epochs')\n",
    "plt.ylabel('Accuracy')\n",
    "plt.legend(loc='lower right')\n",
    "\n",
    "plt.show()"
   ]
  },
  {
   "cell_type": "code",
   "execution_count": 169,
   "id": "04980c5f-3004-4f4f-a38a-c344989921fb",
   "metadata": {},
   "outputs": [
    {
     "data": {
      "image/png": "[encoded data removed]",
      "text/plain": [
       "<Figure size 640x480 with 1 Axes>"
      ]
     },
     "metadata": {},
     "output_type": "display_data"
    }
   ],
   "source": [
    "# Plot the training loss and validation loss\n",
    "plt.plot(df[\"step\"], df[\"train_loss\"], 'b-', label='Training loss')\n",
    "df = df[df[\"valid_loss\"].notna()]\n",
    "plt.plot(df[\"step\"], df[\"valid_loss\"], 'c-', label='Validation loss')\n",
    "plt.title('Training/Validation loss of Fine-Tuning')\n",
    "plt.xlabel('Epochs')\n",
    "plt.ylabel('Loss')\n",
    "plt.legend()\n",
    "plt.show()\n"
   ]
  },
  {
   "cell_type": "markdown",
   "id": "619a56b5-bd38-4a33-a53d-e6a610e6969b",
   "metadata": {},
   "source": [
    "The above curve shows a promising training with training loss high and then stabilizing near zero as number of iterations increses. We do not notice a similar pattern with validation loss as it do not reduce near zero with number of iterations. This may be indication of ovefitting as ideally the training loss and validation loss must be close to each other towards the end of iterations. "
   ]
  },
  {
   "cell_type": "markdown",
   "id": "f602eb6b-6094-4ee6-82ca-6cc3ce8e8fc8",
   "metadata": {},
   "source": [
    "Now the model is ready for testing."
   ]
  },
  {
   "cell_type": "markdown",
   "id": "e1020fa7-c90e-4327-9762-47973e02e696",
   "metadata": {},
   "source": [
    "4. Testing the fine tuned model"
   ]
  },
  {
   "cell_type": "markdown",
   "id": "835a00dd-971f-4f38-91ca-661c42ddcde2",
   "metadata": {},
   "source": [
    "Prompt 1: Enjoying snowfall"
   ]
  },
  {
   "cell_type": "code",
   "execution_count": 3,
   "id": "c8953a7c-38e4-4d8f-8f44-e5a17a9ed9b1",
   "metadata": {},
   "outputs": [],
   "source": [
    "# get api key from file\n",
    "with open(\"../../apikeys/openai-keys.json\", \"r\") as key_file:\n",
    "    api_key = json.load(key_file)[\"default_api_key\"]\n",
    "os.environ[\"OPENAI_API_KEY\"] = api_key"
   ]
  },
  {
   "cell_type": "code",
   "execution_count": 4,
   "id": "6b608d71-520b-4de3-b4a2-01abe1064d69",
   "metadata": {},
   "outputs": [],
   "source": [
    "from openai import OpenAI\n",
    "client = OpenAI()"
   ]
  },
  {
   "cell_type": "markdown",
   "id": "73f7c71b-8206-4ce8-88dc-7151af520c45",
   "metadata": {},
   "source": [
    "#### GPT 4o mini without fine-tuning"
   ]
  },
  {
   "cell_type": "code",
   "execution_count": 5,
   "id": "ebfc61a1-c8a6-4053-bade-1bec22a37453",
   "metadata": {},
   "outputs": [],
   "source": [
    "messages=[\n",
    "        {\n",
    "            \"role\": \"system\", \n",
    "            \"content\": f\"You are a assistant that generates emojis\\n\\\n",
    "            If you donot know the answer, simply state that you donot know.\"\n",
    "        },\n",
    "        {\n",
    "            \"role\": \"user\", \n",
    "            \"content\": f\"Q: Enjoying snowfall\\nA:\"\n",
    "        }\n",
    "    ]"
   ]
  },
  {
   "cell_type": "code",
   "execution_count": 7,
   "id": "60e40a71-159d-4a0c-bdc5-fefd32fc10d5",
   "metadata": {},
   "outputs": [
    {
     "name": "stdout",
     "output_type": "stream",
     "text": [
      "Response from GPT 4o mini without fine-tuning:\n",
      " ❄️☃️🌨️✨\n"
     ]
    }
   ],
   "source": [
    "chat_response_1_std = client.chat.completions.create(\n",
    "    model=\"gpt-4o-mini\",\n",
    "    messages=messages\n",
    ")\n",
    "print(f\"Response from GPT 4o mini without fine-tuning:\\n {chat_response_1_std.choices[0].message.content}\")"
   ]
  },
  {
   "cell_type": "markdown",
   "id": "1385aba7-f786-4659-a94c-353736ad54ce",
   "metadata": {},
   "source": [
    "#### Fine-tuned Model"
   ]
  },
  {
   "cell_type": "code",
   "execution_count": 8,
   "id": "87770a71-d01f-40a1-8ab3-be64c0902e73",
   "metadata": {},
   "outputs": [
    {
     "name": "stdout",
     "output_type": "stream",
     "text": [
      "Response from GPT 4o mini without fine-tuning:\n",
      " (cloudwithsnow)\n"
     ]
    }
   ],
   "source": [
    "chat_response_1_fine_tuned = client.chat.completions.create(\n",
    "    model=\"ft:gpt-4o-mini-2024-07-18:personal:emoji-20240122:ArUCgSFs\",\n",
    "    messages=messages\n",
    ")\n",
    "print(f\"Response from GPT 4o mini without fine-tuning:\\n {chat_response_1_fine_tuned.choices[0].message.content}\")"
   ]
  },
  {
   "cell_type": "code",
   "execution_count": null,
   "id": "925f4ea7-bd88-47be-968b-cd197acefe9d",
   "metadata": {},
   "outputs": [],
   "source": []
  },
  {
   "cell_type": "code",
   "execution_count": 3,
   "id": "52d60040-3360-4580-a11b-dc03e953ec5d",
   "metadata": {},
   "outputs": [],
   "source": [
    "# get api key from file\n",
    "with open(\"../../apikeys/openai-keys.json\", \"r\") as key_file:\n",
    "    api_key = json.load(key_file)[\"default_api_key\"]\n",
    "os.environ[\"OPENAI_API_KEY\"] = api_key"
   ]
  },
  {
   "cell_type": "code",
   "execution_count": 4,
   "id": "e47d9e59-ac7c-4604-bb4e-41143992864a",
   "metadata": {},
   "outputs": [],
   "source": [
    "from openai import OpenAI\n",
    "client = OpenAI()"
   ]
  },
  {
   "cell_type": "markdown",
   "id": "19e6cda6-5143-4e5b-93e0-84434137370e",
   "metadata": {},
   "source": [
    "Prompt 2: Celebrating graduation"
   ]
  },
  {
   "cell_type": "markdown",
   "id": "df26105b-2d47-45ea-9af7-37bf07a47df8",
   "metadata": {},
   "source": [
    "#### GPT 4o mini without fine-tuning"
   ]
  },
  {
   "cell_type": "code",
   "execution_count": 9,
   "id": "b77f409d-db14-49b8-8f76-ceb696f707d8",
   "metadata": {},
   "outputs": [],
   "source": [
    "messages=[\n",
    "        {\n",
    "            \"role\": \"system\", \n",
    "            \"content\": f\"You are a assistant that generates emojis\\n\\\n",
    "            If you donot know the answer, simply state that you donot know.\"\n",
    "        },\n",
    "        {\n",
    "            \"role\": \"user\", \n",
    "            \"content\": f\"Q: Celebrating graduation\\nA:\"\n",
    "        }\n",
    "    ]"
   ]
  },
  {
   "cell_type": "code",
   "execution_count": 10,
   "id": "fe0411e5-6f66-4f89-aaba-3ebf1b50dd9b",
   "metadata": {},
   "outputs": [
    {
     "name": "stdout",
     "output_type": "stream",
     "text": [
      "Response from GPT 4o mini without fine-tuning:\n",
      " 🎓🎉🎊🥳📚✨\n"
     ]
    }
   ],
   "source": [
    "chat_response_2_std = client.chat.completions.create(\n",
    "    model=\"gpt-4o-mini\",\n",
    "    messages=messages\n",
    ")\n",
    "print(f\"Response from GPT 4o mini without fine-tuning:\\n {chat_response_2_std.choices[0].message.content}\")"
   ]
  },
  {
   "cell_type": "markdown",
   "id": "1a1028f6-eb00-46dc-aaeb-dd62acd65595",
   "metadata": {},
   "source": [
    "#### Fine-tuned Model"
   ]
  },
  {
   "cell_type": "code",
   "execution_count": 11,
   "id": "ffea543b-536f-401a-8977-a0260a17abc9",
   "metadata": {},
   "outputs": [
    {
     "name": "stdout",
     "output_type": "stream",
     "text": [
      "Response from GPT 4o mini without fine-tuning:\n",
      " (graduationcap)\n"
     ]
    }
   ],
   "source": [
    "chat_response_2_fine_tuned = client.chat.completions.create(\n",
    "    model=\"ft:gpt-4o-mini-2024-07-18:personal:emoji-20240122:ArUCgSFs\",\n",
    "    messages=messages\n",
    ")\n",
    "print(f\"Response from the fine-tuning model:\\n {chat_response_2_fine_tuned.choices[0].message.content}\")"
   ]
  }
 ],
 "metadata": {
  "kernelspec": {
   "display_name": "Python 3 (ipykernel)",
   "language": "python",
   "name": "python3"
  },
  "language_info": {
   "codemirror_mode": {
    "name": "ipython",
    "version": 3
   },
   "file_extension": ".py",
   "mimetype": "text/x-python",
   "name": "python",
   "nbconvert_exporter": "python",
   "pygments_lexer": "ipython3",
   "version": "3.12.7"
  }
 },
 "nbformat": 4,
 "nbformat_minor": 5
}
