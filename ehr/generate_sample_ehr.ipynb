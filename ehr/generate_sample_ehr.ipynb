{
 "cells": [
  {
   "cell_type": "markdown",
   "id": "f7b95164-6963-4658-ba23-867bfd9bf8bd",
   "metadata": {},
   "source": [
    "## Generate Sample EHR\n",
    "\n",
    "### Using OpenAI API"
   ]
  },
  {
   "cell_type": "code",
   "execution_count": 1,
   "id": "78ed5716-7dbf-4fe8-ac80-6e308e9810e4",
   "metadata": {},
   "outputs": [],
   "source": [
    "from openai import OpenAI\n",
    "import json\n",
    "import os\n",
    "import tiktoken\n",
    "from fpdf import FPDF\n",
    "from faker import Faker\n",
    "from datetime import datetime as dt\n",
    "import re"
   ]
  },
  {
   "cell_type": "code",
   "execution_count": 2,
   "id": "c1ecbbe1-bf5d-4ad8-8631-72a397bb99df",
   "metadata": {},
   "outputs": [],
   "source": [
    "# get api key from file\n",
    "with open(\"../../../apikeys/openai-keys.json\", \"r\") as key_file:\n",
    "    api_key = json.load(key_file)[\"default_api_key\"]\n",
    "os.environ[\"OPENAI_API_KEY\"] = api_key"
   ]
  },
  {
   "cell_type": "code",
   "execution_count": 3,
   "id": "61401c1c-4e99-4bd8-a589-53c182332746",
   "metadata": {},
   "outputs": [],
   "source": [
    "# get client for API call\n",
    "client = OpenAI()"
   ]
  },
  {
   "cell_type": "code",
   "execution_count": 4,
   "id": "fd73a748-96f1-473c-af56-b5ecd2dbcb46",
   "metadata": {},
   "outputs": [],
   "source": [
    "instruction = \"\"\"Generate 1 sample Electronic Health Records (EHR) for a patients having Morbid Obesity with details about their medical history including clinical details such as blood pressure, BMI, family history, health conditions, diagnosis, occupation, and personal heath assessment information. Use fake information for name and date of birth\"\"\""
   ]
  },
  {
   "cell_type": "code",
   "execution_count": 5,
   "id": "8ebe8ad8-5e93-4a2c-8906-fb7b4e6b3b61",
   "metadata": {},
   "outputs": [],
   "source": [
    "# instruction = \"\"\"Generate 1 sample Electronic Health Records (EHR) for a healthy person having no disease with details about their medical history including clinical details such as blood pressure, BMI, family history, health conditions, diagnosis, occupation, and personal heath assessment information. Use fake information for name and date of birth\"\"\""
   ]
  },
  {
   "cell_type": "code",
   "execution_count": 6,
   "id": "c1c7b285-4170-4eea-9b43-17a68c894f7b",
   "metadata": {},
   "outputs": [],
   "source": [
    "example_format = \"\"\"##Patient Information\n",
    "* Name: \n",
    "* Date of Birth: \n",
    "* Age: \n",
    "* Gender: \n",
    "* Patient ID: \n",
    "###Vital Signs (Recorded on date)\n",
    "* Blood Pressure: \n",
    "* Heart Rate: \n",
    "* Respiratory Rate: \n",
    "* Temperature: \n",
    "* Oxygen Saturation (SpO2): \n",
    "* BMI: \n",
    "###Family History\n",
    "* Father: \n",
    "* Mother: \n",
    "* Siblings: \n",
    "###Medical History\n",
    "* Chronic Conditions:\n",
    "    * condition1\n",
    "    * condition2\n",
    "* Previous Surgeries:\n",
    "    * None\n",
    "* Allergies:\n",
    "    * if any\n",
    "###Current Medications\n",
    "* medicine1\n",
    "* medicine2\n",
    "###Health Conditions\n",
    "* conditon1\n",
    "* consition2\n",
    "###Recent Diagnosis\n",
    "* diagnosis\n",
    "###Personal Health Assessment\n",
    "* Lifestyle:\n",
    "    * Exercises \n",
    "    * Diet: \n",
    "    * Sleep: \n",
    "    * Stress: \n",
    "* Tobacco Use: \n",
    "* Alcohol Use: \n",
    "* Occupation: \n",
    "###Physician's Notes\n",
    "Add physician notes here##\"\"\""
   ]
  },
  {
   "cell_type": "code",
   "execution_count": 7,
   "id": "41bfb8c3-3bb1-420b-a4af-f3410ed5ffc7",
   "metadata": {},
   "outputs": [],
   "source": [
    "# example_format = \"\"\"##Patient Information\n",
    "# * Name: Emily Carter\n",
    "# * Date of Birth: 03/15/1985 \n",
    "# * Age: 39\n",
    "# * Gender: Female\n",
    "# * Patient ID: 20250011234\n",
    "# ###Vital Signs (Recorded on 01/26/2025)\n",
    "# * Blood Pressure: 130/85 mmHg (Prehypertension range)\n",
    "# * Heart Rate: 78 bpm\n",
    "# * Respiratory Rate: 16 breaths/min\n",
    "# * Temperature: 98.6°F\n",
    "# * Oxygen Saturation (SpO2): 96%\n",
    "# * BMI: 28.5 (Overweight category)\n",
    "# ###Family History\n",
    "# * Father: Hypertension, Type 2 Diabetes\n",
    "# * Mother: Breast Cancer (diagnosed at 55)\n",
    "# * Siblings: None with significant medical history\n",
    "# ###Medical History\n",
    "# * Chronic Conditions:\n",
    "#     * Hypertension (diagnosed 2022)\n",
    "#     * Mild Asthma (diagnosed 2009)\n",
    "# * Previous Surgeries:\n",
    "#     * Appendectomy (2018)\n",
    "# * Allergies:\n",
    "#     * Penicillin\n",
    "# ###Current Medications\n",
    "# * Amlodipine (5 mg, daily)\n",
    "# * Albuterol Inhaler (as needed)\n",
    "# ###Health Conditions\n",
    "# * Hypertension\n",
    "# * Seasonal Allergies\n",
    "# ###Recent Diagnosis\n",
    "# * Mild Anemia (detected during routine bloodwork, January 2025)\n",
    "# ###Personal Health Assessment\n",
    "# * Lifestyle:\n",
    "#     * Exercises 2–3 times per week (yoga and walking)\n",
    "#     * Diet: Moderately healthy, consumes a high amount of processed foods\n",
    "#     * Sleep: 6–7 hours per night\n",
    "#     * Stress: Moderate due to work demands\n",
    "# * Tobacco Use: None\n",
    "# * Alcohol Use: Occasional (1–2 glasses of wine per week)\n",
    "# * Occupation: Sales Associate\n",
    "# ###Physician's Notes\n",
    "# Emily has shown stable blood pressure with medication but requires improvement in diet and weight management to reduce long-term cardiovascular risks. Recommended increasing physical activity to 150 minutes/week and incorporating more fruits and vegetables into her diet. Follow-up in 6 months to monitor anemia treatment and blood pressure.##\"\"\""
   ]
  },
  {
   "cell_type": "code",
   "execution_count": 8,
   "id": "ae1a074d-f71d-44d8-89b8-e4bb99f4de79",
   "metadata": {},
   "outputs": [
    {
     "name": "stdout",
     "output_type": "stream",
     "text": [
      "o200k_base\n"
     ]
    }
   ],
   "source": [
    "encoding = tiktoken.encoding_for_model(\"gpt-4o-mini\")\n",
    "print(encoding.name)"
   ]
  },
  {
   "cell_type": "code",
   "execution_count": 9,
   "id": "fe38afca-bbc9-41c6-b821-7690759390d8",
   "metadata": {},
   "outputs": [
    {
     "name": "stdout",
     "output_type": "stream",
     "text": [
      "209\n"
     ]
    }
   ],
   "source": [
    "tokens = encoding.encode(example_format)\n",
    "print(len(tokens))"
   ]
  },
  {
   "cell_type": "code",
   "execution_count": 10,
   "id": "d7ef341d-3555-42d5-ace2-09ece6ca1e0c",
   "metadata": {},
   "outputs": [
    {
     "name": "stdout",
     "output_type": "stream",
     "text": [
      "Output EHR:\n",
      " ## Patient Information\n",
      "* Name: John Doe\n",
      "* Date of Birth: January 15, 1985\n",
      "* Age: 38\n",
      "* Gender: Male\n",
      "* Patient ID: 123456\n",
      "\n",
      "### Vital Signs (Recorded on 2023-10-20)\n",
      "* Blood Pressure: 145/95 mmHg\n",
      "* Heart Rate: 82 bpm\n",
      "* Respiratory Rate: 18 breaths/min\n",
      "* Temperature: 98.6 °F\n",
      "* Oxygen Saturation (SpO2): 98%\n",
      "* BMI: 42.1 kg/m²\n",
      "\n",
      "### Family History\n",
      "* Father: Hypertension, Type 2 Diabetes\n",
      "* Mother: Morbid Obesity, Hyperlipidemia\n",
      "* Siblings: One brother with obesity-related health issues\n",
      "\n",
      "### Medical History\n",
      "* Chronic Conditions:\n",
      "    * Morbid Obesity\n",
      "    * Hypertension\n",
      "* Previous Surgeries:\n",
      "    * None\n",
      "* Allergies:\n",
      "    * Penicillin (rash)\n",
      "\n",
      "### Current Medications\n",
      "* Lisinopril 20 mg daily\n",
      "* Metformin 500 mg twice daily\n",
      "\n",
      "### Health Conditions\n",
      "* Type 2 Diabetes (recently diagnosed)\n",
      "* Obstructive Sleep Apnea (OSA)\n",
      "\n",
      "### Recent Diagnosis\n",
      "* Morbid Obesity\n",
      "* Essential Hypertension\n",
      "* Type 2 Diabetes\n",
      "\n",
      "### Personal Health Assessment\n",
      "* Lifestyle:\n",
      "    * Exercises: Rarely; sedentary lifestyle\n",
      "    * Diet: High in carbohydrates and sugars; minimal fruits and vegetables\n",
      "    * Sleep: 5-6 hours per night, often interrupted\n",
      "    * Stress: Moderate to high due to work and personal life\n",
      "* Tobacco Use: Never smoked\n",
      "* Alcohol Use: Social drinker, approximately 2-3 drinks per week\n",
      "* Occupation: Office manager, primarily desk job with limited physical activity\n",
      "\n",
      "### Physician's Notes\n",
      "* Patient presents with a significant risk for cardiovascular disease given his morbid obesity and hypertension. Discussed the importance of lifestyle modifications including diet changes and increased physical activity. Referral to a dietitian provided to assist with meal planning. Recommended follow-up in 3 months for reassessment of weight and blood pressure. Consider eligibility for bariatric surgery based on weight loss progress. Monitoring of blood\n"
     ]
    }
   ],
   "source": [
    "# API call using prompt 1\n",
    "response1 = client.chat.completions.create(\n",
    "    model=\"gpt-4o-mini\",\n",
    "    messages=[\n",
    "        {\n",
    "            \"role\": \"system\", \n",
    "            \"content\": f\"You are a helpful assistant who generates sample electronic health record\\nHere is an example format{example_format}\"\n",
    "        },\n",
    "        {\n",
    "            \"role\": \"user\", \n",
    "            \"content\": f\"{instruction}\"\n",
    "        }\n",
    "    ],\n",
    "    max_completion_tokens=450,\n",
    "    n=1\n",
    ")\n",
    "\n",
    "print(f\"Output EHR:\\n {response1.choices[0].message.content}\")"
   ]
  },
  {
   "cell_type": "code",
   "execution_count": 11,
   "id": "ce7392e5-3b9f-4dc9-ad06-3ad07cce16e4",
   "metadata": {},
   "outputs": [
    {
     "name": "stdout",
     "output_type": "stream",
     "text": [
      "CompletionUsage(completion_tokens=450, prompt_tokens=297, total_tokens=747, completion_tokens_details=CompletionTokensDetails(accepted_prediction_tokens=0, audio_tokens=0, reasoning_tokens=0, rejected_prediction_tokens=0), prompt_tokens_details=PromptTokensDetails(audio_tokens=0, cached_tokens=0))\n"
     ]
    }
   ],
   "source": [
    "#show token usage of api call\n",
    "print(response1.usage)"
   ]
  },
  {
   "cell_type": "code",
   "execution_count": 12,
   "id": "45ec0c65-2b20-4119-9c2a-0ef467c14313",
   "metadata": {},
   "outputs": [
    {
     "data": {
      "text/plain": [
       "['',\n",
       " '* Name: John Doe',\n",
       " '* Date of Birth: January 15, 1985',\n",
       " '* Age: 38',\n",
       " '* Gender: Male',\n",
       " '* Patient ID: 123456',\n",
       " '',\n",
       " '### Vital Signs (Recorded on 2023-10-20)',\n",
       " '* Blood Pressure: 145/95 mmHg',\n",
       " '* Heart Rate: 82 bpm',\n",
       " '* Respiratory Rate: 18 breaths/min',\n",
       " '* Temperature: 98.6 °F',\n",
       " '* Oxygen Saturation (SpO2): 98%',\n",
       " '* BMI: 42.1 kg/m²',\n",
       " '',\n",
       " '### Family History',\n",
       " '* Father: Hypertension, Type 2 Diabetes',\n",
       " '* Mother: Morbid Obesity, Hyperlipidemia',\n",
       " '* Siblings: One brother with obesity-related health issues',\n",
       " '',\n",
       " '### Medical History',\n",
       " '* Chronic Conditions:',\n",
       " '    * Morbid Obesity',\n",
       " '    * Hypertension',\n",
       " '* Previous Surgeries:',\n",
       " '    * None',\n",
       " '* Allergies:',\n",
       " '    * Penicillin (rash)',\n",
       " '',\n",
       " '### Current Medications',\n",
       " '* Lisinopril 20 mg daily',\n",
       " '* Metformin 500 mg twice daily',\n",
       " '',\n",
       " '### Health Conditions',\n",
       " '* Type 2 Diabetes (recently diagnosed)',\n",
       " '* Obstructive Sleep Apnea (OSA)',\n",
       " '',\n",
       " '### Recent Diagnosis',\n",
       " '* Morbid Obesity',\n",
       " '* Essential Hypertension',\n",
       " '* Type 2 Diabetes',\n",
       " '',\n",
       " '### Personal Health Assessment',\n",
       " '* Lifestyle:',\n",
       " '    * Exercises: Rarely; sedentary lifestyle',\n",
       " '    * Diet: High in carbohydrates and sugars; minimal fruits and vegetables',\n",
       " '    * Sleep: 5-6 hours per night, often interrupted',\n",
       " '    * Stress: Moderate to high due to work and personal life',\n",
       " '* Tobacco Use: Never smoked',\n",
       " '* Alcohol Use: Social drinker, approximately 2-3 drinks per week',\n",
       " '* Occupation: Office manager, primarily desk job with limited physical activity',\n",
       " '',\n",
       " \"### Physician's Notes\",\n",
       " '* Patient presents with a significant risk for cardiovascular disease given his morbid obesity and hypertension. Discussed the importance of lifestyle modifications including diet changes and increased physical activity. Referral to a dietitian provided to assist with meal planning. Recommended follow-up in 3 months for reassessment of weight and blood pressure. Consider eligibility for bariatric surgery based on weight loss progress. Monitoring of blood']"
      ]
     },
     "execution_count": 12,
     "metadata": {},
     "output_type": "execute_result"
    }
   ],
   "source": [
    "# response1.choices[0].message.content.split(\"##Patient Information\")[1].split(\"---\")[0].split(\"\\n\")\n",
    "try:\n",
    "    ehr = response1.choices[0].message.content.split(\"## Patient Information\")[1].split(\"\\n\")\n",
    "except IndexError:\n",
    "    ehr = response1.choices[0].message.content.split(\"##Patient Information\")[1].split(\"\\n\")\n",
    "ehr"
   ]
  },
  {
   "cell_type": "code",
   "execution_count": 13,
   "id": "ac123b4c-17c2-4193-a3c6-014783558cbb",
   "metadata": {},
   "outputs": [],
   "source": [
    "# Create a new PDF object\n",
    "pdf = FPDF()\n",
    "fake = Faker()\n",
    "\n",
    "# Add a new page\n",
    "pdf.add_page()\n",
    "\n",
    "# Set the font\n",
    "pdf.set_font(\"Arial\", size=12)\n",
    "\n",
    "# Add the text\n",
    "i=1\n",
    "# for line in response1.choices[0].message.content.split(\"##Patient Information\")[1].split(\"---\")[0].split(\"\\n\"):\n",
    "for line in ehr:\n",
    "    text =  line.replace('\\u2013','')\n",
    "    if text=='' or text == ' ':\n",
    "        continue\n",
    "    if re.search(\"Name\", text):\n",
    "        fake_name = fake.unique.name()\n",
    "        text = f\"* Name: {fake_name}\"\n",
    "    elif re.search(\"Date of Birth:\", text):\n",
    "        fake_dob = fake.unique.date_of_birth()\n",
    "        text = f\"* DOB: {fake_dob}\"\n",
    "    elif re.search(\"Physician's Notes\", text):\n",
    "        try:\n",
    "            doctor_notes = response1.choices[0].message.content.split(\"### Physician's Notes\")[1].replace(\"\\n\",\"\")\n",
    "        except IndexError:\n",
    "            doctor_notes = response1.choices[0].message.content.split(\"###Physician's Notes\")[1].replace(\"\\n\",\"\")\n",
    "        # print(doctor_notes)\n",
    "        pdf.multi_cell(0,10, txt=f\"### Physician's Notes\\n{doctor_notes}\", align=\"L\")\n",
    "        break\n",
    "    else:\n",
    "        pass\n",
    "    pdf.cell(0, 10, txt=text, ln=i,)\n",
    "    i=1+1\n",
    "\n",
    "# Save the PDF\n",
    "pdf.output(f\"./pdfs/{fake_name}_EHR_{dt.strftime(dt.now(),\"%Y%m%d\")}.pdf\")\n",
    "# write text file\n",
    "with open(f\"./text_ehrs/{fake_name}_EHR_{dt.strftime(dt.now(),\"%Y%m%d\")}.txt\", \"w\") as textfile:\n",
    "    textfile.write(response1.choices[0].message.content)"
   ]
  },
  {
   "cell_type": "code",
   "execution_count": null,
   "id": "cf3eef97-b051-4c71-8495-542262c672d0",
   "metadata": {},
   "outputs": [],
   "source": []
  }
 ],
 "metadata": {
  "kernelspec": {
   "display_name": "Python 3 (ipykernel)",
   "language": "python",
   "name": "python3"
  },
  "language_info": {
   "codemirror_mode": {
    "name": "ipython",
    "version": 3
   },
   "file_extension": ".py",
   "mimetype": "text/x-python",
   "name": "python",
   "nbconvert_exporter": "python",
   "pygments_lexer": "ipython3",
   "version": "3.12.7"
  }
 },
 "nbformat": 4,
 "nbformat_minor": 5
}
