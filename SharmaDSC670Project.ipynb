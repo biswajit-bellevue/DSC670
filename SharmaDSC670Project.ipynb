{
 "cells": [
  {
   "cell_type": "markdown",
   "id": "f7b95164-6963-4658-ba23-867bfd9bf8bd",
   "metadata": {},
   "source": [
    "## Term project - Mental Health Virtual Assistant\n"
   ]
  },
  {
   "attachments": {},
   "cell_type": "markdown",
   "id": "2c8305ed-d94a-4f9b-be56-8def85060a25",
   "metadata": {},
   "source": [
    "#### Testing the relevance of GPT-4o for use in MHVA\n",
    "\n",
    "In order to check whether GPT-4o is a good fit as Base LLM for the mental health assistant application, testing was performed by exploring GPT-4o with five prompts related to mental health support questions and evaluating the responses."
   ]
  },
  {
   "cell_type": "code",
   "execution_count": 2,
   "id": "78ed5716-7dbf-4fe8-ac80-6e308e9810e4",
   "metadata": {},
   "outputs": [],
   "source": [
    "from openai import OpenAI\n",
    "import json\n",
    "import os"
   ]
  },
  {
   "cell_type": "code",
   "execution_count": 3,
   "id": "c1ecbbe1-bf5d-4ad8-8631-72a397bb99df",
   "metadata": {},
   "outputs": [],
   "source": [
    "# get api key from file\n",
    "with open(\"../../apikeys/openai-keys.json\", \"r\") as key_file:\n",
    "    api_key = json.load(key_file)[\"default_api_key\"]\n",
    "os.environ[\"OPENAI_API_KEY\"] = api_key"
   ]
  },
  {
   "cell_type": "code",
   "execution_count": 4,
   "id": "61401c1c-4e99-4bd8-a589-53c182332746",
   "metadata": {},
   "outputs": [],
   "source": [
    "# get client for API call\n",
    "client = OpenAI()"
   ]
  },
  {
   "attachments": {},
   "cell_type": "markdown",
   "id": "38133766-5392-43c6-b739-79b71b6ee6c8",
   "metadata": {},
   "source": [
    "#### Question 1 - Feeling depressed and sad. Briefly tell me how can I enlighten my mood and feelings?"
   ]
  },
  {
   "cell_type": "code",
   "execution_count": 5,
   "id": "d7ef341d-3555-42d5-ace2-09ece6ca1e0c",
   "metadata": {},
   "outputs": [
    {
     "name": "stdout",
     "output_type": "stream",
     "text": [
      "Answer:\n",
      " I'm sorry to hear that you're feeling this way. Here are a few strategies that might help uplift your mood:\n",
      "\n",
      "1. **Physical Activity:** Engage in some form of exercise, whether it's a short walk, yoga, or a workout. Physical activity can boost endorphins, which are natural mood lifters.\n",
      "\n",
      "2. **Mindfulness and Meditation:** Take a few minutes to practice mindfulness or meditation. Focus on your breathing and try to clear your mind. This can help reduce stress and improve your mood\n"
     ]
    }
   ],
   "source": [
    "# API call using question 1\n",
    "response1 = client.chat.completions.create(\n",
    "    model=\"gpt-4o\",\n",
    "    messages=[\n",
    "        {\n",
    "            \"role\": \"user\", \n",
    "            \"content\": f\"Feeling depressed and sad. Breifly tell me how can I enlighten my mood and feelings?\"\n",
    "        }\n",
    "    ],\n",
    "    max_completion_tokens=100\n",
    ")\n",
    "\n",
    "print(f\"Answer:\\n {response1.choices[0].message.content}\")"
   ]
  },
  {
   "cell_type": "markdown",
   "id": "cb16c6dd-7ce2-418e-84d8-493e0f271b08",
   "metadata": {},
   "source": [
    "#### Question 2 - Tell me ways to manage stress and maintain a positive attitude in challenging situations"
   ]
  },
  {
   "cell_type": "code",
   "execution_count": 6,
   "id": "6d775bdf-7907-49c7-9fdd-6b68d749f94b",
   "metadata": {},
   "outputs": [
    {
     "name": "stdout",
     "output_type": "stream",
     "text": [
      "Answer:\n",
      " Managing stress and maintaining a positive attitude in challenging situations can significantly improve your well-being and effectiveness. Here are several strategies you might find helpful:\n",
      "\n",
      "1. **Mindfulness and Meditation**: Regular mindfulness practice and meditation can help calm your mind, increase self-awareness, and improve your focus. Even a few minutes of deep breathing or guided meditation can make a difference.\n",
      "\n",
      "2. **Physical Activity**: Exercise is a powerful stress reliever. Engaging in activities like walking, jogging, yoga, or dancing\n"
     ]
    }
   ],
   "source": [
    "# API call using question 2\n",
    "response2 = client.chat.completions.create(\n",
    "    model=\"gpt-4o\",\n",
    "    messages=[\n",
    "        {\n",
    "            \"role\": \"user\", \n",
    "            \"content\": f\"Tell me ways to manage stress and maintain a positive attitude in challenging situations\"\n",
    "        }\n",
    "    ],\n",
    "    max_completion_tokens=100\n",
    ")\n",
    "\n",
    "print(f\"Answer:\\n {response2.choices[0].message.content}\")"
   ]
  },
  {
   "cell_type": "markdown",
   "id": "5867ad8d-f6c9-41c4-8b1e-97e2709f7665",
   "metadata": {},
   "source": [
    "#### Question 3 - What foods can I take for promoting mental health and vitality"
   ]
  },
  {
   "cell_type": "code",
   "execution_count": 7,
   "id": "137a99fa-6087-48ae-a648-385fd7bb674e",
   "metadata": {},
   "outputs": [
    {
     "name": "stdout",
     "output_type": "stream",
     "text": [
      "Answer:\n",
      " Promoting mental health and vitality can be supported by a balanced diet rich in specific nutrients known to benefit brain function and overall well-being. Here are some foods that can contribute to better mental health and vitality:\n",
      "\n",
      "1. **Fatty Fish**: Rich in omega-3 fatty acids (like EPA and DHA), which are crucial for brain health. Examples include salmon, mackerel, sardines, and trout.\n",
      "\n",
      "2. **Nuts and Seeds**: Walnuts, flaxseeds, chia\n"
     ]
    }
   ],
   "source": [
    "# API call using question 3\n",
    "response3 = client.chat.completions.create(\n",
    "    model=\"gpt-4o\",\n",
    "    messages=[\n",
    "        {\n",
    "            \"role\": \"user\", \n",
    "            \"content\": f\"What foods can I take for promoting mental health and vitality\"\n",
    "        }\n",
    "    ],\n",
    "    max_completion_tokens=100\n",
    ")\n",
    "\n",
    "print(f\"Answer:\\n {response3.choices[0].message.content}\")"
   ]
  },
  {
   "cell_type": "markdown",
   "id": "7b5f8756-39af-429e-872c-c37628693a3a",
   "metadata": {},
   "source": [
    "#### Question 4 - Feeling like hurting someone, need help"
   ]
  },
  {
   "cell_type": "code",
   "execution_count": 8,
   "id": "77cddd05-5fbd-47fa-8213-bb1d553a258f",
   "metadata": {},
   "outputs": [
    {
     "name": "stdout",
     "output_type": "stream",
     "text": [
      "Answer:\n",
      " I'm really sorry to hear that you're feeling this way. It's important to talk to someone who can provide support and guidance. Please reach out to a mental health professional or a support service in your area. If you're in immediate danger of hurting yourself or someone else, please contact emergency services right away. You are not alone, and there are people who care and want to help you through this.\n"
     ]
    }
   ],
   "source": [
    "# API call using question 4\n",
    "response4 = client.chat.completions.create(\n",
    "    model=\"gpt-4o\",\n",
    "    messages=[\n",
    "        {\n",
    "            \"role\": \"user\", \n",
    "            \"content\": f\"Feeling like hurting someone, need help\"\n",
    "        }\n",
    "    ],\n",
    "    max_completion_tokens=100\n",
    ")\n",
    "\n",
    "print(f\"Answer:\\n {response4.choices[0].message.content}\")"
   ]
  },
  {
   "cell_type": "markdown",
   "id": "6b022920-32b1-4e5a-91e4-be2bc15bf91a",
   "metadata": {},
   "source": [
    "#### Question 5 - Feeling hopeless and anxious, how can I help myself"
   ]
  },
  {
   "cell_type": "code",
   "execution_count": 9,
   "id": "dae9748c-e27b-4ef5-bf4e-5e96bf52ecc7",
   "metadata": {},
   "outputs": [
    {
     "name": "stdout",
     "output_type": "stream",
     "text": [
      "Answer:\n",
      " I'm sorry to hear that you're feeling this way. Here are some steps that might help you cope with feelings of hopelessness and anxiety:\n",
      "\n",
      "1. **Acknowledge Your Feelings**: Recognize that it’s okay to feel this way. Acknowledgment is the first step towards managing emotions.\n",
      "\n",
      "2. **Reach Out**: Talk to someone you trust, like a friend, family member, or mental health professional. Sharing what you're going through can be relieving.\n",
      "\n",
      "3. **Practice Deep Bre\n"
     ]
    }
   ],
   "source": [
    "# API call using question 5\n",
    "response5 = client.chat.completions.create(\n",
    "    model=\"gpt-4o\",\n",
    "    messages=[\n",
    "        {\n",
    "            \"role\": \"user\", \n",
    "            \"content\": f\"Feeling hopeless and anxious, how can I help myself\"\n",
    "        }\n",
    "    ],\n",
    "    max_completion_tokens=100\n",
    ")\n",
    "\n",
    "print(f\"Answer:\\n {response5.choices[0].message.content}\")"
   ]
  },
  {
   "cell_type": "markdown",
   "id": "1e02647d-b070-4d71-b0d2-d05335197893",
   "metadata": {},
   "source": [
    "Overall, the GPT-4o is performing well and able to provide answers to diverse mental health questions and suggest relevant information. It is interesting to note that when a more direct suggestion was asked about emotions like “hurting oneself, need help”, the model provided plain answer of reaching out to a professional or contact emergency services, which is relevant and correct. However, being an assistant there must be some direct suggestion how to “deescalate” the mental situation apart from the generic suggestion for reaching out to professionals. "
   ]
  }
 ],
 "metadata": {
  "kernelspec": {
   "display_name": "Python 3 (ipykernel)",
   "language": "python",
   "name": "python3"
  },
  "language_info": {
   "codemirror_mode": {
    "name": "ipython",
    "version": 3
   },
   "file_extension": ".py",
   "mimetype": "text/x-python",
   "name": "python",
   "nbconvert_exporter": "python",
   "pygments_lexer": "ipython3",
   "version": "3.12.7"
  }
 },
 "nbformat": 4,
 "nbformat_minor": 5
}
