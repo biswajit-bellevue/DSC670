{
 "cells": [
  {
   "cell_type": "markdown",
   "id": "f7b95164-6963-4658-ba23-867bfd9bf8bd",
   "metadata": {},
   "source": [
    "## Assignment Week 5\n",
    "\n",
    "### Problem #1: Math and Extraction with Zero and One-Shot Prompting"
   ]
  },
  {
   "cell_type": "markdown",
   "id": "862245db-74e6-43d5-aa7c-1d28fa9ae8b0",
   "metadata": {},
   "source": [
    "#### Zero-shot Prompt"
   ]
  },
  {
   "cell_type": "markdown",
   "id": "5ee5359c-a45e-4bee-8a66-b5d3b933ec2b",
   "metadata": {},
   "source": [
    "In the activities below prompt engineering approach such as zero-shot, one-shot and COT are demonstrated in simplest form to generate better quality json data from an invoice using OpenAI LLM (chatgp-4o-mini). "
   ]
  },
  {
   "cell_type": "code",
   "execution_count": 1,
   "id": "78ed5716-7dbf-4fe8-ac80-6e308e9810e4",
   "metadata": {},
   "outputs": [],
   "source": [
    "from openai import OpenAI\n",
    "import json\n",
    "import os"
   ]
  },
  {
   "cell_type": "code",
   "execution_count": 2,
   "id": "c1ecbbe1-bf5d-4ad8-8631-72a397bb99df",
   "metadata": {},
   "outputs": [],
   "source": [
    "# get api key from file\n",
    "with open(\"../../apikeys/openai-keys.json\", \"r\") as key_file:\n",
    "    api_key = json.load(key_file)[\"default_api_key\"]\n",
    "os.environ[\"OPENAI_API_KEY\"] = api_key"
   ]
  },
  {
   "cell_type": "code",
   "execution_count": 3,
   "id": "61401c1c-4e99-4bd8-a589-53c182332746",
   "metadata": {},
   "outputs": [],
   "source": [
    "# get client for API call\n",
    "client = OpenAI()"
   ]
  },
  {
   "cell_type": "code",
   "execution_count": 4,
   "id": "fd73a748-96f1-473c-af56-b5ecd2dbcb46",
   "metadata": {},
   "outputs": [],
   "source": [
    "email_text = \"\"\"Hey Jim,\n",
    "I'd like to order some new shoes. Please ship the following:\n",
    "1. Nike Air Jordan I - 2 pair\n",
    "2. Converse All-Star - 10 pair\n",
    "3. New Balance 990 - 1 pair\n",
    "4. Nike Zoom Fly 5 men's red - 2 pair\n",
    "Please provide sub-totals and grand total cost.\n",
    "Thanks.\n",
    "Lance Gentry\n",
    "123 Main St.\n",
    "Chelsea, MI 48109\n",
    "248-229-2229\"\"\""
   ]
  },
  {
   "cell_type": "markdown",
   "id": "38133766-5392-43c6-b739-79b71b6ee6c8",
   "metadata": {},
   "source": [
    "#### Prompt 1\n",
    "\n",
    "**No example** about how to extract information was provided in this prompt, which is an example of `zero-shot learning`. The prompt do not guide LLM how to extract the information for the required atribute. Here the list of attributes were explicitly mentioned in the promompt to direct the LLM to generate json containing all the attributes needed in the output as mentioned in the asignment requirement. If the attributes have not been specified it will be solely up to the LLM to generate json attributes based on its understanding which  may or may not match the schema of the requirement json mentioned in the assignment. "
   ]
  },
  {
   "cell_type": "code",
   "execution_count": 5,
   "id": "c8dfb434-2c00-4eec-a8b2-e6f15d9fe598",
   "metadata": {},
   "outputs": [],
   "source": [
    "context = \"you extract information provided in the attribute list from the email body into Json format. \\\n",
    "You can also add additional attributes in the output json when mentioned in additional attribute list\"\n",
    "attribute_list = \"attribute list: shoe_agent_name, request_type shoe_brand,\\\n",
    "shoe_model, shoe_quantity, customer_name, customer_street, customer_city,customer_state,customer_zip, customer_phone, \\\n",
    "shoe_price\"\n",
    "additional_attribute_list = \"addtional attribute list: shoe_price for each shoe, shoe_subtotal, and grand_total\"\n"
   ]
  },
  {
   "cell_type": "code",
   "execution_count": 6,
   "id": "d7ef341d-3555-42d5-ace2-09ece6ca1e0c",
   "metadata": {},
   "outputs": [
    {
     "name": "stdout",
     "output_type": "stream",
     "text": [
      "Output json:\n",
      " ```json\n",
      "{\n",
      "  \"shoe_agent_name\": \"Jim\",\n",
      "  \"request_type\": \"order\",\n",
      "  \"shoes\": [\n",
      "    {\n",
      "      \"shoe_brand\": \"Nike\",\n",
      "      \"shoe_model\": \"Air Jordan I\",\n",
      "      \"shoe_quantity\": 2,\n",
      "      \"shoe_price\": null,  // Price not specified\n",
      "      \"shoe_subtotal\": null // Subtotal will be calculated based on shoe_price * shoe_quantity\n",
      "    },\n",
      "    {\n",
      "      \"shoe_brand\": \"Converse\",\n",
      "      \"shoe_model\": \"All-Star\",\n",
      "      \"shoe_quantity\": 10,\n",
      "      \"shoe_price\": null,  // Price not specified\n",
      "      \"shoe_subtotal\": null // Subtotal will be calculated based on shoe_price * shoe_quantity\n",
      "    },\n",
      "    {\n",
      "      \"shoe_brand\": \"New Balance\",\n",
      "      \"shoe_model\": \"990\",\n",
      "      \"shoe_quantity\": 1,\n",
      "      \"shoe_price\": null,  // Price not specified\n",
      "      \"shoe_subtotal\": null // Subtotal will be calculated based on shoe_price * shoe_quantity\n",
      "    },\n",
      "    {\n",
      "      \"shoe_brand\": \"Nike\",\n",
      "      \"shoe_model\": \"Zoom Fly 5 men's red\",\n",
      "      \"shoe_quantity\": 2,\n",
      "      \"shoe_price\": null,  // Price not specified\n",
      "      \"shoe_subtotal\": null // Subtotal will be calculated based on shoe_price * shoe_quantity\n",
      "    }\n",
      "  ],\n",
      "  \"customer_name\": \"Lance Gentry\",\n",
      "  \"customer_street\": \"123 Main St.\",\n",
      "  \"customer_city\": \"Chelsea\",\n",
      "  \"customer_state\": \"MI\",\n",
      "  \"customer_zip\": \"48109\",\n",
      "  \"customer_phone\": \"248-229-2229\",\n",
      "  \"grand_total\": null // Grand total will be calculated based on all shoe_subtotals\n",
      "}\n",
      "```\n"
     ]
    }
   ],
   "source": [
    "response1 = client.chat.completions.create(\n",
    "    model=\"gpt-4o-mini\",\n",
    "    messages=[\n",
    "        {\n",
    "            \"role\": \"system\", \n",
    "            \"content\": f\"{context}\"\n",
    "        },\n",
    "        {\n",
    "            \"role\": \"user\", \n",
    "            \"content\": f\"Q:Here is the email body, attibute list and additional attribute list\\n \\\n",
    "            email body:{email_text}\\n attribute list: {attribute_list}\\n additional attribute list: {additional_attribute_list}\\n A:\"\n",
    "        }\n",
    "    ],\n",
    ")\n",
    "\n",
    "print(f\"Output json:\\n {response1.choices[0].message.content}\")"
   ]
  },
  {
   "cell_type": "code",
   "execution_count": 7,
   "id": "ce7392e5-3b9f-4dc9-ad06-3ad07cce16e4",
   "metadata": {},
   "outputs": [
    {
     "name": "stdout",
     "output_type": "stream",
     "text": [
      "CompletionUsage(completion_tokens=370, prompt_tokens=231, total_tokens=601, completion_tokens_details=CompletionTokensDetails(accepted_prediction_tokens=0, audio_tokens=0, reasoning_tokens=0, rejected_prediction_tokens=0), prompt_tokens_details=PromptTokensDetails(audio_tokens=0, cached_tokens=0))\n"
     ]
    }
   ],
   "source": [
    "#show token usage of api call\n",
    "print(response1.usage)"
   ]
  },
  {
   "cell_type": "markdown",
   "id": "b0543597-75f0-489c-9d76-61c8a69964b2",
   "metadata": {},
   "source": [
    "The response of the `prompt 1` is fair. The output json contain **most information** from the email. However it is interesting to notice that the amount attributes such as `shoe_price`,`shoe_subtotal` and `grand_total` are all `null` because the price of the shoes are not present in the email text. It is interesting to note that the response informs the user that it was nt able to calculate the subtotal and grand total due to absence of shoe price. _This can be resolved by providing the shoe price of each type of shoes in the prompt itself._"
   ]
  },
  {
   "cell_type": "markdown",
   "id": "bc33c96b-9ea4-4ed6-bf90-9cccd0a13af5",
   "metadata": {},
   "source": [
    "#### Prompt 2\n",
    "\n",
    "In this prompt the `price of each type of shoes` is passed to LLM along with all other information from `prompt 1`."
   ]
  },
  {
   "cell_type": "code",
   "execution_count": 9,
   "id": "63250bb4-b4a6-4b04-baf9-0836a4b4e963",
   "metadata": {},
   "outputs": [
    {
     "name": "stdout",
     "output_type": "stream",
     "text": [
      "Output json:\n",
      " ```json\n",
      "{\n",
      "  \"shoe_agent_name\": \"Jim\",\n",
      "  \"request_type\": \"order\",\n",
      "  \"shoes\": [\n",
      "    {\n",
      "      \"shoe_brand\": \"Nike\",\n",
      "      \"shoe_model\": \"Air Jordan I\",\n",
      "      \"shoe_quantity\": 2,\n",
      "      \"shoe_price\": 100,\n",
      "      \"shoe_subtotal\": 200\n",
      "    },\n",
      "    {\n",
      "      \"shoe_brand\": \"Converse\",\n",
      "      \"shoe_model\": \"All-Star\",\n",
      "      \"shoe_quantity\": 10,\n",
      "      \"shoe_price\": 30,\n",
      "      \"shoe_subtotal\": 300\n",
      "    },\n",
      "    {\n",
      "      \"shoe_brand\": \"New Balance\",\n",
      "      \"shoe_model\": \"990\",\n",
      "      \"shoe_quantity\": 1,\n",
      "      \"shoe_price\": 110,\n",
      "      \"shoe_subtotal\": 110\n",
      "    },\n",
      "    {\n",
      "      \"shoe_brand\": \"Nike\",\n",
      "      \"shoe_model\": \"Zoom Fly 5 men's red\",\n",
      "      \"shoe_quantity\": 2,\n",
      "      \"shoe_price\": 400,\n",
      "      \"shoe_subtotal\": 800\n",
      "    }\n",
      "  ],\n",
      "  \"customer_name\": \"Lance Gentry\",\n",
      "  \"customer_street\": \"123 Main St.\",\n",
      "  \"customer_city\": \"Chelsea\",\n",
      "  \"customer_state\": \"MI\",\n",
      "  \"customer_zip\": \"48109\",\n",
      "  \"customer_phone\": \"248-229-2229\",\n",
      "  \"grand_total\": 1410\n",
      "}\n",
      "```\n"
     ]
    }
   ],
   "source": [
    "response2 = client.chat.completions.create(\n",
    "    model=\"gpt-4o-mini\",\n",
    "    messages=[\n",
    "        {\n",
    "            \"role\": \"system\", \n",
    "            \"content\": f\"{context}\"\n",
    "        },\n",
    "        {\n",
    "            \"role\": \"user\", \n",
    "            \"content\": f\"Q: Here is the email body, attibute list and additional attribute list\\n \\\n",
    "            email body:{email_text}\\n attribute list: {attribute_list}\\n additional attribute list: {additional_attribute_list}\\n\\\n",
    "            More information: *price of Nike Air Jordan I is 100*\\n*price of Converse All-Star is 30*\\n\\\n",
    "            *price of New Balance 990 is 110*\\n*price of Nike Zoom Fly 5 is 400*\\n A:\"\n",
    "            \n",
    "        }\n",
    "    ],\n",
    ")\n",
    "\n",
    "print(f\"Output json:\\n {response2.choices[0].message.content}\")"
   ]
  },
  {
   "cell_type": "code",
   "execution_count": 10,
   "id": "555fab51-130c-4e93-a8cb-87dfcd410e1b",
   "metadata": {},
   "outputs": [
    {
     "name": "stdout",
     "output_type": "stream",
     "text": [
      "CompletionUsage(completion_tokens=291, prompt_tokens=280, total_tokens=571, completion_tokens_details=CompletionTokensDetails(accepted_prediction_tokens=0, audio_tokens=0, reasoning_tokens=0, rejected_prediction_tokens=0), prompt_tokens_details=PromptTokensDetails(audio_tokens=0, cached_tokens=0))\n"
     ]
    }
   ],
   "source": [
    "#show token usage of api call\n",
    "print(response2.usage)"
   ]
  },
  {
   "cell_type": "markdown",
   "id": "39b1c38e-bd67-4b5c-8528-1e4294c8c3cc",
   "metadata": {},
   "source": [
    "We observe that the issue of `null` in the amount attributes is fixed as soon as the price of each item is passed in the prompt. However, we notice that the attribute containing the list of shoes is named as `shoes` instead of `items` as required in the [sample output][1] of the assignmnt provided in BB. This may be resolved by trying `one-shot prompting` where we provide an example with email body and corresponding json output which will serve as an example for the LLM to better understnad the schema and gnerate correct json matching the requirement.\n",
    "\n",
    "[1]:https://cyberactive.bellevue.edu/bbcswebdav/xid-104820287_4"
   ]
  },
  {
   "cell_type": "markdown",
   "id": "7458a454-d471-4f6a-a5d8-6ac22dad7e67",
   "metadata": {},
   "source": [
    "#### One-shot Prompt"
   ]
  },
  {
   "cell_type": "markdown",
   "id": "537ea948-2e82-4e8f-af26-5371b306e434",
   "metadata": {},
   "source": [
    "In one-shot prompt an example of the task with sample email body and required etracted json output will be provided to the LLM."
   ]
  },
  {
   "cell_type": "code",
   "execution_count": 13,
   "id": "5c550bb4-91e5-489e-9a62-a791fc715053",
   "metadata": {},
   "outputs": [],
   "source": [
    "output_json_example = {\n",
    "  \"shoe_agent_name\": \"Jim\",\n",
    "  \"request_type\": \"order\",\n",
    "  \"items\": [\n",
    "    {\n",
    "      \"shoe_brand\": \"Nike\",\n",
    "      \"shoe_model\": \"Air Jordan I\",\n",
    "      \"shoe_quantity\": 2,\n",
    "      \"shoe_price\": 100,\n",
    "      \"shoe_subtotal\": 200\n",
    "    },\n",
    "    {\n",
    "      \"shoe_brand\": \"Converse\",\n",
    "      \"shoe_model\": \"All-Star\",\n",
    "      \"shoe_quantity\": 10,\n",
    "      \"shoe_price\": 30,\n",
    "      \"shoe_subtotal\": 300\n",
    "    },\n",
    "    {\n",
    "      \"shoe_brand\": \"New Balance\",\n",
    "      \"shoe_model\": \"990\",\n",
    "      \"shoe_quantity\": 1,\n",
    "      \"shoe_price\": 110,\n",
    "      \"shoe_subtotal\": 110\n",
    "    },\n",
    "    {\n",
    "      \"shoe_brand\": \"Nike\",\n",
    "      \"shoe_model\": \"Zoom Fly 5 men's red\",\n",
    "      \"shoe_quantity\": 2,\n",
    "      \"shoe_price\": 400,\n",
    "      \"shoe_subtotal\": 800\n",
    "    }\n",
    "  ],\n",
    "  \"customer_name\": \"Lance Gentry\",\n",
    "  \"customer_street\": \"123 Main St.\",\n",
    "  \"customer_city\": \"Chelsea\",\n",
    "  \"customer_state\": \"MI\",\n",
    "  \"customer_zip\": \"48109\",\n",
    "  \"customer_phone\": \"248-229-2229\",\n",
    "  \"grand_total\": 1410\n",
    "}\n"
   ]
  },
  {
   "cell_type": "code",
   "execution_count": 14,
   "id": "7341ac6b-17ae-4e24-bc00-8049c02a601d",
   "metadata": {},
   "outputs": [],
   "source": [
    "context = \"you extract information from the email body into Json format.\""
   ]
  },
  {
   "cell_type": "code",
   "execution_count": 15,
   "id": "75736f79-ca39-4a66-86d8-7ef69f08b0b6",
   "metadata": {},
   "outputs": [],
   "source": [
    "new_email_text = \"\"\"Hey Michelle,\n",
    "I'd like to order some new shoes. Please ship the following:\n",
    "1. Nike Air Jordan I - 1 pair\n",
    "2. Converse All-Star - 20 pair\n",
    "3. New Balance 990 - 2 pair\n",
    "4. Nike Zoom Fly 5 men's red - 5 pair\n",
    "Please provide sub-totals and grand total cost.\n",
    "Thanks.\n",
    "Artis Gilmore\n",
    "723 Lexington Blvd.\n",
    "New York, NY 10001\n",
    "(503) 484-1029\"\"\""
   ]
  },
  {
   "cell_type": "code",
   "execution_count": 16,
   "id": "4746d483-114d-498d-8e96-f47eb49cde19",
   "metadata": {},
   "outputs": [
    {
     "name": "stdout",
     "output_type": "stream",
     "text": [
      "Output json:\n",
      " ```json\n",
      "{\n",
      "  \"shoe_agent_name\": \"Michelle\",\n",
      "  \"request_type\": \"order\",\n",
      "  \"items\": [\n",
      "    {\n",
      "      \"shoe_brand\": \"Nike\",\n",
      "      \"shoe_model\": \"Air Jordan I\",\n",
      "      \"shoe_quantity\": 1,\n",
      "      \"shoe_price\": 100,\n",
      "      \"shoe_subtotal\": 100\n",
      "    },\n",
      "    {\n",
      "      \"shoe_brand\": \"Converse\",\n",
      "      \"shoe_model\": \"All-Star\",\n",
      "      \"shoe_quantity\": 20,\n",
      "      \"shoe_price\": 30,\n",
      "      \"shoe_subtotal\": 600\n",
      "    },\n",
      "    {\n",
      "      \"shoe_brand\": \"New Balance\",\n",
      "      \"shoe_model\": \"990\",\n",
      "      \"shoe_quantity\": 2,\n",
      "      \"shoe_price\": 110,\n",
      "      \"shoe_subtotal\": 220\n",
      "    },\n",
      "    {\n",
      "      \"shoe_brand\": \"Nike\",\n",
      "      \"shoe_model\": \"Zoom Fly 5 men's red\",\n",
      "      \"shoe_quantity\": 5,\n",
      "      \"shoe_price\": 400,\n",
      "      \"shoe_subtotal\": 2000\n",
      "    }\n",
      "  ],\n",
      "  \"customer_name\": \"Artis Gilmore\",\n",
      "  \"customer_street\": \"723 Lexington Blvd.\",\n",
      "  \"customer_city\": \"New York\",\n",
      "  \"customer_state\": \"NY\",\n",
      "  \"customer_zip\": \"10001\",\n",
      "  \"customer_phone\": \"(503) 484-1029\",\n",
      "  \"grand_total\": 2920\n",
      "}\n",
      "```\n"
     ]
    }
   ],
   "source": [
    "# api call using prompt for the completion task\n",
    "response3 = client.chat.completions.create(\n",
    "    model=\"gpt-4o-mini\",\n",
    "    messages=[\n",
    "        {\n",
    "            \"role\": \"system\", \n",
    "            \"content\": f\"{context}\"\n",
    "        },\n",
    "        {\n",
    "            \"role\": \"user\", \n",
    "            \"content\": f\"Q: {email_text} \\n A: {output_json_example}  \\\n",
    "            Q:{new_email_text}\\n A:\"\n",
    "            \n",
    "        }\n",
    "    ],\n",
    ")\n",
    "\n",
    "print(f\"Output json:\\n {response3.choices[0].message.content}\")"
   ]
  },
  {
   "cell_type": "code",
   "execution_count": 17,
   "id": "49dd62a4-cc5f-4ed7-a807-c34cb740cb11",
   "metadata": {},
   "outputs": [
    {
     "name": "stdout",
     "output_type": "stream",
     "text": [
      "CompletionUsage(completion_tokens=293, prompt_tokens=464, total_tokens=757, completion_tokens_details=CompletionTokensDetails(accepted_prediction_tokens=0, audio_tokens=0, reasoning_tokens=0, rejected_prediction_tokens=0), prompt_tokens_details=PromptTokensDetails(audio_tokens=0, cached_tokens=0))\n"
     ]
    }
   ],
   "source": [
    "#show token usage of api call\n",
    "print(response3.usage)"
   ]
  },
  {
   "cell_type": "markdown",
   "id": "599c1fbe-a14c-40b8-9e01-49d96819ca99",
   "metadata": {},
   "source": [
    "In `one-shot prompting` above, we do not need to provide details of the shoe prices and information about the required attributes in json separately in prompt like `zero-shot prompting`. Instead an `example` of `email body` and corresponding expected `json` output were provided in the prompt. The `examples` enabled the LLM to steer it response to the desired output including all the details. The LLM was able to infer the prices of each kind of shoes from the example itself. The output json has all the attributes exactly as mentioned in the example in this case.\n",
    "\n",
    "It is worth to note that the cost of the task is higher in the `one shot` promting compared to `zero shot` because we needed to provide an entire email body and an entire json example in the prompt which increased the number of input tokens hence more cost. However, even though cost was higher we were able to get more tailored response. Therefore, cost and output performance must be evaluated before choosing the type of prompting for a task."
   ]
  },
  {
   "cell_type": "markdown",
   "id": "2838e963-dffb-48b7-bedb-1956eaecc3ea",
   "metadata": {},
   "source": [
    "### Problem #2: Chat Completion for Chain of Thought"
   ]
  },
  {
   "cell_type": "code",
   "execution_count": 18,
   "id": "6926337e-7efb-4c84-8a22-f6ce3f789190",
   "metadata": {},
   "outputs": [],
   "source": [
    "cot_prompt = \"\"\"Q: There were nine computers in the server room. Five more computers were installed each day, from Monday to Thursday. How many computers are now in the server room?\n",
    "A: There are 4 days from Monday to Thursday. 5 computers were added each day. That means in total 4 * 5 = 20 computers were added. There were 9 computers initially, so now there are 9 + 20 = 29 computers. The answer is 29.\n",
    "Q: Michael had 58 golf balls. On Tuesday, he lost 23 golf balls. On Wednesday, he lost 2 more. How many golf balls did he have at the end of Wednesday?\n",
    "A: Michael initially had 58 balls. He lost 23 on Tuesday, so after that he has 58 - 23 = 35 balls. On Wednesday he lost 2 more so now he has 35 - 2 = 33 balls. The answer is 33.\n",
    "Q: Olivia has $23. She bought five bagels for $3 each. How much money does she have left?\n",
    "A: She bought 5 bagels for $3 each. This means she spent $15. She has $8 left.\n",
    "Q: When I was 6 my sister was half my age. Now I'm 70 how old is my sister?\"\"\""
   ]
  },
  {
   "cell_type": "code",
   "execution_count": 19,
   "id": "365ae0db-a535-43de-8eaa-8741bc190e73",
   "metadata": {},
   "outputs": [
    {
     "name": "stdout",
     "output_type": "stream",
     "text": [
      "Output json:\n",
      " When you were 6 years old, your sister was half your age, which means she was 3 years old at that time. The age difference between you and your sister is 3 years. Now that you are 70, your sister would be 70 - 3 = 67 years old. So, your sister is 67 years old now.\n"
     ]
    }
   ],
   "source": [
    "# api call using prompt for the completion task\n",
    "response4 = client.chat.completions.create(\n",
    "    model=\"gpt-4o-mini\",\n",
    "    messages=[\n",
    "        {\n",
    "            \"role\": \"user\", \n",
    "            \"content\": f\"{cot_prompt}\"\n",
    "            \n",
    "        }\n",
    "    ],\n",
    ")\n",
    "\n",
    "print(f\"Answer:\\n {response4.choices[0].message.content}\")"
   ]
  },
  {
   "cell_type": "markdown",
   "id": "931232ee-1c4f-493e-b09d-df59f4bf0eac",
   "metadata": {},
   "source": [
    "`Chain of thought` is a prompting technique that enables reasoning capabilities in LLM responses by providing reasoning examples in the prompt. As observed above, the response yeilded correct result with the use of `chain of thougt` in promt allowing the LLM to understand the mathematical reasoning and generate correct result. It is worth to note that apart from just the answer, LLM response also includes a step by step explanation about how it arrived at the result."
   ]
  },
  {
   "cell_type": "code",
   "execution_count": null,
   "id": "5ffbae99-b398-498a-9696-54f887cb69e6",
   "metadata": {},
   "outputs": [],
   "source": []
  }
 ],
 "metadata": {
  "kernelspec": {
   "display_name": "Python 3 (ipykernel)",
   "language": "python",
   "name": "python3"
  },
  "language_info": {
   "codemirror_mode": {
    "name": "ipython",
    "version": 3
   },
   "file_extension": ".py",
   "mimetype": "text/x-python",
   "name": "python",
   "nbconvert_exporter": "python",
   "pygments_lexer": "ipython3",
   "version": "3.12.7"
  }
 },
 "nbformat": 4,
 "nbformat_minor": 5
}
